{
 "cells": [
  {
   "cell_type": "markdown",
   "id": "55b5595c-fec9-41c3-b756-b95cd0c52048",
   "metadata": {},
   "source": [
    "# Connect to downstream Gene Ontology terms.\n",
    "\n",
    "This notebook showcases the functionality of Omniflow that connects the existing nodes of a network to a phenotype of interest. "
   ]
  },
  {
   "cell_type": "code",
   "execution_count": 1,
   "id": "3c317de8",
   "metadata": {},
   "outputs": [
    {
     "name": "stdout",
     "output_type": "stream",
     "text": [
      "CPU times: user 3.46 s, sys: 872 ms, total: 4.34 s\n",
      "Wall time: 4.19 s\n"
     ]
    }
   ],
   "source": [
    "%%time\n",
    "from neko.core.network import Network\n",
    "from neko._visual.visualize_network import NetworkVisualizer\n",
    "from neko.inputs import Universe\n",
    "from neko._annotations.gene_ontology import Ontology\n",
    "import omnipath as op"
   ]
  },
  {
   "cell_type": "markdown",
   "id": "2910c871-fdfc-4d20-b76f-af213f06a3f0",
   "metadata": {},
   "source": [
    "### 1. Build network\n",
    "\n",
    "Please see the [Network building](https://omniflow-project.readthedocs.io/en/latest/notebooks/network_building.html) tutorial for detailed explanations of each step."
   ]
  },
  {
   "cell_type": "code",
   "execution_count": 2,
   "id": "79c09e13",
   "metadata": {},
   "outputs": [],
   "source": [
    "genes = [\"SRC\", \"NOTCH1\", \"FAK\"]"
   ]
  },
  {
   "cell_type": "code",
   "execution_count": 3,
   "id": "fcf68a99-8454-41e3-8816-c3f976d04c0b",
   "metadata": {},
   "outputs": [],
   "source": [
    "new_net1 = Network(genes, resources = 'omnipath')"
   ]
  },
  {
   "cell_type": "code",
   "execution_count": 4,
   "id": "370180cc",
   "metadata": {
    "scrolled": true
   },
   "outputs": [
    {
     "name": "stdout",
     "output_type": "stream",
     "text": [
      "CPU times: user 34.7 ms, sys: 250 μs, total: 35 ms\n",
      "Wall time: 34.5 ms\n"
     ]
    }
   ],
   "source": [
    "%%time\n",
    "new_net1.connect_nodes(only_signed=True, consensus_only=True)"
   ]
  },
  {
   "cell_type": "markdown",
   "id": "8ed135d3-9f71-4cec-9381-96c63fba766e",
   "metadata": {},
   "source": [
    "### 2. Connect to Gene Ontology (GO) term\n",
    "\n",
    "Connect the nodes of the Network with markers of a certain phenotype, from Gene Ontology. \n",
    "\n",
    "The _connect_genes_to_phenotype_ function will look for interactions between the nodes of the network and genes annotated with a GO term of interest. The argument _compress_ replaces the individual phenotype-specific genes into one phenotype node.\n",
    "\n",
    "<div class=\"alert alert-info\">\n",
    "\n",
    "**Note**\n",
    "    \n",
    "We suggest to the users to choose gene ontology terms lower in the hierarcy (e.g., execution phase of apoptosis _versus_ apoptosis) to avoid the inclusion of too many genes.\n",
    "\n",
    "</div>  "
   ]
  },
  {
   "cell_type": "code",
   "execution_count": 5,
   "id": "fa499a38-c22a-4a0e-b1d4-3ffb10e4a370",
   "metadata": {
    "scrolled": true
   },
   "outputs": [
    {
     "name": "stdout",
     "output_type": "stream",
     "text": [
      "Start requesting genes from Gene Ontology\n",
      "Fetching from:  https://golr-aux.geneontology.io/solr/select?defType=edismax&qt=standard&indent=on&wt=csv&rows=100000&start=0&fl=bioentity_label&facet=true&facet.mincount=1&facet.sort=count&json.nl=arrarr&facet.limit=25&hl=true&hl.simple.pre=%3Cem%20class=%22hilite%22%3E&hl.snippets=1000&csv.encapsulator=&csv.separator=%09&csv.header=false&csv.mv.separator=%7C&fq=document_category:%22annotation%22&fq=isa_partof_closure:%22GO:0001837%22&fq=taxon_subset_closure_label:%22Homo%20sapiens%22&fq=type:%22protein%22&fq=annotation_class_label:%22epithelial%20to%20mesenchymal%20transition%22&facet.field=aspect&facet.field=taxon_subset_closure_label&facet.field=type&facet.field=evidence_subset_closure_label&facet.field=regulates_closure_label&facet.field=isa_partof_closure_label&facet.field=annotation_class_label&facet.field=qualifier&facet.field=annotation_extension_class_closure_label&facet.field=assigned_by&facet.field=panther_family_label&q=*:*\n",
      "Done\n",
      "Starting connecting network's nodes to: ['FBXO11', 'BMP2', 'FOXF2', 'NOTCH4', 'SMAD4', 'SPSB3', 'SOX9', 'ROCK2', 'SNAI2', 'TGFB1', 'CTNNB1', 'DACT3', 'TGFBR3L', 'TRIM28', 'DDX5', 'TGFBR1', 'LEF1', 'SLC39A10', 'IGF1', 'DDX17', 'TGFB2', 'S100A4', 'WNT5A', 'WNT11', 'HNRNPAB', 'DLG5', 'PPP3R1', 'NOTCH1', 'RNF7', 'TGFBR3', 'LIMS1', 'SNAI1', 'WNT4', 'HIF1A', 'FAM83D', 'ROCK1', 'AMELX', 'LOXL3', 'KAT8', 'KDM1A', 'RBX1', 'BMP7', 'RBPJ', 'AKNA', 'SP6', 'HGF', 'HMGA2', 'GSK3B', 'CUL7', 'NOG', 'SLC39A6', 'LOXL2', 'CUL5', 'MSX1', 'EPB41L5', 'NCAM1', 'FGFR2', 'RFLNB', 'TGFBR2', 'FGFR1']\n",
      "CPU times: user 230 ms, sys: 1.95 ms, total: 232 ms\n",
      "Wall time: 1.34 s\n"
     ]
    }
   ],
   "source": [
    "%%time\n",
    "new_net1.connect_genes_to_phenotype(id_accession=\"GO:0001837\", phenotype=\"epithelial to mesenchymal transition\", only_signed=True, compress=True, maxlen=1)"
   ]
  },
  {
   "cell_type": "code",
   "execution_count": 6,
   "id": "33300268-bcf6-442b-97be-c7718922a939",
   "metadata": {
    "scrolled": true
   },
   "outputs": [
    {
     "data": {
      "image/svg+xml": [
       "<?xml version=\"1.0\" encoding=\"UTF-8\" standalone=\"no\"?>\n",
       "<!DOCTYPE svg PUBLIC \"-//W3C//DTD SVG 1.1//EN\"\n",
       " \"http://www.w3.org/Graphics/SVG/1.1/DTD/svg11.dtd\">\n",
       "<!-- Generated by graphviz version 2.43.0 (0)\n",
       " -->\n",
       "<!-- Title: %3 Pages: 1 -->\n",
       "<svg width=\"378pt\" height=\"188pt\"\n",
       " viewBox=\"0.00 0.00 378.47 188.00\" xmlns=\"http://www.w3.org/2000/svg\" xmlns:xlink=\"http://www.w3.org/1999/xlink\">\n",
       "<g id=\"graph0\" class=\"graph\" transform=\"scale(1 1) rotate(0) translate(4 184)\">\n",
       "<title>%3</title>\n",
       "<polygon fill=\"white\" stroke=\"transparent\" points=\"-4,4 -4,-184 374.47,-184 374.47,4 -4,4\"/>\n",
       "<!-- SRC -->\n",
       "<g id=\"node1\" class=\"node\">\n",
       "<title>SRC</title>\n",
       "<ellipse fill=\"lightgray\" stroke=\"black\" cx=\"153.23\" cy=\"-162\" rx=\"30.59\" ry=\"18\"/>\n",
       "<text text-anchor=\"middle\" x=\"153.23\" y=\"-158.3\" font-family=\"Times,serif\" font-size=\"14.00\">SRC</text>\n",
       "</g>\n",
       "<!-- PTK2 -->\n",
       "<g id=\"node2\" class=\"node\">\n",
       "<title>PTK2</title>\n",
       "<ellipse fill=\"lightgray\" stroke=\"black\" cx=\"121.23\" cy=\"-90\" rx=\"36\" ry=\"18\"/>\n",
       "<text text-anchor=\"middle\" x=\"121.23\" y=\"-86.3\" font-family=\"Times,serif\" font-size=\"14.00\">PTK2</text>\n",
       "</g>\n",
       "<!-- SRC&#45;&gt;PTK2 -->\n",
       "<g id=\"edge1\" class=\"edge\">\n",
       "<title>SRC&#45;&gt;PTK2</title>\n",
       "<path fill=\"none\" stroke=\"green\" d=\"M145.65,-144.41C141.92,-136.25 137.33,-126.22 133.15,-117.07\"/>\n",
       "<polygon fill=\"green\" stroke=\"green\" points=\"136.33,-115.6 128.98,-107.96 129.96,-118.51 136.33,-115.6\"/>\n",
       "</g>\n",
       "<!-- epithelial_to_mesenchymal_transition -->\n",
       "<g id=\"node3\" class=\"node\">\n",
       "<title>epithelial_to_mesenchymal_transition</title>\n",
       "<ellipse fill=\"lightgray\" stroke=\"black\" cx=\"185.23\" cy=\"-18\" rx=\"185.47\" ry=\"18\"/>\n",
       "<text text-anchor=\"middle\" x=\"185.23\" y=\"-14.3\" font-family=\"Times,serif\" font-size=\"14.00\">epithelial_to_mesenchymal_transition</text>\n",
       "</g>\n",
       "<!-- SRC&#45;&gt;epithelial_to_mesenchymal_transition -->\n",
       "<g id=\"edge2\" class=\"edge\">\n",
       "<title>SRC&#45;&gt;epithelial_to_mesenchymal_transition</title>\n",
       "<path fill=\"none\" stroke=\"red\" d=\"M157.58,-143.85C160.17,-133.48 163.48,-120 166.23,-108 171.42,-85.39 176.91,-59.44 180.64,-41.42\"/>\n",
       "<polygon fill=\"red\" stroke=\"red\" points=\"176.64,-36.06 186.44,-38.09 186.03,-40.05 176.24,-38.02 176.64,-36.06\"/>\n",
       "<polyline fill=\"none\" stroke=\"red\" points=\"181.74,-36.1 180.73,-40.99 \"/>\n",
       "</g>\n",
       "<!-- PTK2&#45;&gt;epithelial_to_mesenchymal_transition -->\n",
       "<g id=\"edge4\" class=\"edge\">\n",
       "<title>PTK2&#45;&gt;epithelial_to_mesenchymal_transition</title>\n",
       "<path fill=\"none\" stroke=\"green\" d=\"M135.44,-73.46C143.46,-64.69 153.66,-53.53 162.75,-43.6\"/>\n",
       "<polygon fill=\"green\" stroke=\"green\" points=\"165.56,-45.7 169.73,-35.96 160.39,-40.98 165.56,-45.7\"/>\n",
       "</g>\n",
       "<!-- NOTCH1 -->\n",
       "<g id=\"node4\" class=\"node\">\n",
       "<title>NOTCH1</title>\n",
       "<ellipse fill=\"lightgray\" stroke=\"black\" cx=\"265.23\" cy=\"-90\" rx=\"51.99\" ry=\"18\"/>\n",
       "<text text-anchor=\"middle\" x=\"265.23\" y=\"-86.3\" font-family=\"Times,serif\" font-size=\"14.00\">NOTCH1</text>\n",
       "</g>\n",
       "<!-- NOTCH1&#45;&gt;epithelial_to_mesenchymal_transition -->\n",
       "<g id=\"edge3\" class=\"edge\">\n",
       "<title>NOTCH1&#45;&gt;epithelial_to_mesenchymal_transition</title>\n",
       "<path fill=\"none\" stroke=\"green\" d=\"M247.08,-73.12C236.82,-64.14 223.79,-52.73 212.33,-42.71\"/>\n",
       "<polygon fill=\"green\" stroke=\"green\" points=\"214.54,-40 204.71,-36.04 209.93,-45.26 214.54,-40\"/>\n",
       "</g>\n",
       "</g>\n",
       "</svg>\n"
      ],
      "text/plain": [
       "<graphviz.dot.Digraph at 0x7c9f69b73ec0>"
      ]
     },
     "metadata": {},
     "output_type": "display_data"
    }
   ],
   "source": [
    "#Visualize network\n",
    "visualizer1 = NetworkVisualizer(new_net1, color_by='effect')\n",
    "visualizer1.render()"
   ]
  },
  {
   "cell_type": "code",
   "execution_count": 7,
   "id": "7ba750f3-8440-4bf6-a37b-5c917f334fc9",
   "metadata": {},
   "outputs": [
    {
     "data": {
      "text/html": [
       "<div>\n",
       "<style scoped>\n",
       "    .dataframe tbody tr th:only-of-type {\n",
       "        vertical-align: middle;\n",
       "    }\n",
       "\n",
       "    .dataframe tbody tr th {\n",
       "        vertical-align: top;\n",
       "    }\n",
       "\n",
       "    .dataframe thead th {\n",
       "        text-align: right;\n",
       "    }\n",
       "</style>\n",
       "<table border=\"1\" class=\"dataframe\">\n",
       "  <thead>\n",
       "    <tr style=\"text-align: right;\">\n",
       "      <th></th>\n",
       "      <th>source</th>\n",
       "      <th>target</th>\n",
       "      <th>Type</th>\n",
       "      <th>Effect</th>\n",
       "      <th>References</th>\n",
       "    </tr>\n",
       "  </thead>\n",
       "  <tbody>\n",
       "    <tr>\n",
       "      <th>0</th>\n",
       "      <td>P12931</td>\n",
       "      <td>Q05397</td>\n",
       "      <td>None</td>\n",
       "      <td>stimulation</td>\n",
       "      <td>Adhesome:10085298;Adhesome:10592173;Adhesome:1...</td>\n",
       "    </tr>\n",
       "    <tr>\n",
       "      <th>1</th>\n",
       "      <td>P12931</td>\n",
       "      <td>epithelial_to_mesenchymal_transition</td>\n",
       "      <td>None</td>\n",
       "      <td>inhibition</td>\n",
       "      <td>InnateDB:18840094</td>\n",
       "    </tr>\n",
       "    <tr>\n",
       "      <th>2</th>\n",
       "      <td>P46531</td>\n",
       "      <td>epithelial_to_mesenchymal_transition</td>\n",
       "      <td>None</td>\n",
       "      <td>stimulation</td>\n",
       "      <td>HPRD:11604490;NetPath:11604490;SPIKE:11604490;...</td>\n",
       "    </tr>\n",
       "    <tr>\n",
       "      <th>3</th>\n",
       "      <td>Q05397</td>\n",
       "      <td>epithelial_to_mesenchymal_transition</td>\n",
       "      <td>None</td>\n",
       "      <td>stimulation</td>\n",
       "      <td>None</td>\n",
       "    </tr>\n",
       "    <tr>\n",
       "      <th>4</th>\n",
       "      <td>P46531</td>\n",
       "      <td>epithelial_to_mesenchymal_transition</td>\n",
       "      <td>NaN</td>\n",
       "      <td>stimulation</td>\n",
       "      <td>Gene Ontology</td>\n",
       "    </tr>\n",
       "  </tbody>\n",
       "</table>\n",
       "</div>"
      ],
      "text/plain": [
       "   source                                target  Type       Effect  \\\n",
       "0  P12931                                Q05397  None  stimulation   \n",
       "1  P12931  epithelial_to_mesenchymal_transition  None   inhibition   \n",
       "2  P46531  epithelial_to_mesenchymal_transition  None  stimulation   \n",
       "3  Q05397  epithelial_to_mesenchymal_transition  None  stimulation   \n",
       "4  P46531  epithelial_to_mesenchymal_transition   NaN  stimulation   \n",
       "\n",
       "                                          References  \n",
       "0  Adhesome:10085298;Adhesome:10592173;Adhesome:1...  \n",
       "1                                  InnateDB:18840094  \n",
       "2  HPRD:11604490;NetPath:11604490;SPIKE:11604490;...  \n",
       "3                                               None  \n",
       "4                                      Gene Ontology  "
      ]
     },
     "execution_count": 7,
     "metadata": {},
     "output_type": "execute_result"
    }
   ],
   "source": [
    "new_net1.edges"
   ]
  }
 ],
 "metadata": {
  "kernelspec": {
   "display_name": "test_env",
   "language": "python",
   "name": "python3"
  },
  "language_info": {
   "codemirror_mode": {
    "name": "ipython",
    "version": 3
   },
   "file_extension": ".py",
   "mimetype": "text/x-python",
   "name": "python",
   "nbconvert_exporter": "python",
   "pygments_lexer": "ipython3",
   "version": "3.12.5"
  }
 },
 "nbformat": 4,
 "nbformat_minor": 5
}
