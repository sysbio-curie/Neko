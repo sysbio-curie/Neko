{
 "cells": [
  {
   "cell_type": "markdown",
   "id": "55b5595c-fec9-41c3-b756-b95cd0c52048",
   "metadata": {},
   "source": [
    "# Build network using user-defined resources\n",
    "\n",
    "This notebook explores how to add other individual resources from Omnipath or other public databases."
   ]
  },
  {
   "cell_type": "code",
   "execution_count": 30,
   "id": "3c317de8",
   "metadata": {},
   "outputs": [
    {
     "name": "stdout",
     "output_type": "stream",
     "text": [
      "CPU times: user 0 ns, sys: 40 µs, total: 40 µs\n",
      "Wall time: 45.8 µs\n"
     ]
    }
   ],
   "source": [
    "%%time\n",
    "from neko.core.network import Network\n",
    "from neko._visual.visualize_network import NetworkVisualizer\n",
    "from neko._inputs.resources import Resources\n",
    "import omnipath as op\n",
    "import pandas as pd"
   ]
  },
  {
   "cell_type": "markdown",
   "id": "2a250d98",
   "metadata": {},
   "source": [
    "## 1. Adding a resource already in Omnipath\n",
    "\n"
   ]
  },
  {
   "cell_type": "markdown",
   "id": "0e6b2c56-80cd-459b-984a-fa235c1a0085",
   "metadata": {},
   "source": [
    "### 1A. Specify the interaction resource of interest"
   ]
  },
  {
   "cell_type": "code",
   "execution_count": 31,
   "id": "829de33a",
   "metadata": {},
   "outputs": [],
   "source": [
    "extra = op.interactions.CollecTRI.get()"
   ]
  },
  {
   "cell_type": "markdown",
   "id": "fc585a3c",
   "metadata": {},
   "source": [
    "### 1B. Add new resource to the Resources object"
   ]
  },
  {
   "cell_type": "code",
   "execution_count": 32,
   "id": "91ae2cef",
   "metadata": {},
   "outputs": [],
   "source": [
    "resources = Resources()\n",
    "resources.add_database(extra, reset_index=True)"
   ]
  },
  {
   "cell_type": "markdown",
   "id": "068cbc5c-93a5-46d9-b0a6-bc520ee66bfc",
   "metadata": {},
   "source": [
    "The generated WARNING suggest that some interactions could be missing (like in this case, the Ligand-Receptor database from Omnipath does not contain any column \"form_complex\"); while this is limiting the amount of knowledge NeKo can extract, it does not prevent the package from working. Other possible cause of a WARNING is the absence of \"consensus\" columns. To avoid error in this case, set always consensus to False."
   ]
  },
  {
   "cell_type": "markdown",
   "id": "ece16ef7-cf9f-4f50-ad5f-99568bdfec88",
   "metadata": {},
   "source": [
    "## 2. Adding a public database\n",
    "\n",
    "Alternatively, the user might want to use their own interaction databases. We have already implemented the inclusion of some of widely used databases. \n",
    "\n",
    "As example, we show here how to integrate the [Signor 3.0](https://signor.uniroma2.it/) database. In order to do so, the User needs to have already downloaded the whole Signor database, available at the following link: [https://signor.uniroma2.it/downloads.php](https://signor.uniroma2.it/downloads.php) or with the following code:. "
   ]
  },
  {
   "cell_type": "markdown",
   "id": "8361d2b2-646b-4080-bc36-ca28c9bfab10",
   "metadata": {},
   "source": [
    "### 2A. Add Signor database\n",
    "\n"
   ]
  },
  {
   "cell_type": "code",
   "execution_count": 33,
   "id": "4fd4b190-350a-4682-8f09-8c6423064038",
   "metadata": {},
   "outputs": [],
   "source": [
    "resources = Resources()\n",
    "resources.import_signor_tsv(\"all_data_09_07_24.tsv\") # this function accept only tab separated values"
   ]
  },
  {
   "cell_type": "code",
   "execution_count": 34,
   "id": "c7e5fe30-55c4-467b-aa7d-5c02cfba7dd2",
   "metadata": {},
   "outputs": [
    {
     "data": {
      "text/html": [
       "<div>\n",
       "<style scoped>\n",
       "    .dataframe tbody tr th:only-of-type {\n",
       "        vertical-align: middle;\n",
       "    }\n",
       "\n",
       "    .dataframe tbody tr th {\n",
       "        vertical-align: top;\n",
       "    }\n",
       "\n",
       "    .dataframe thead th {\n",
       "        text-align: right;\n",
       "    }\n",
       "</style>\n",
       "<table border=\"1\" class=\"dataframe\">\n",
       "  <thead>\n",
       "    <tr style=\"text-align: right;\">\n",
       "      <th></th>\n",
       "      <th>source</th>\n",
       "      <th>target</th>\n",
       "      <th>is_directed</th>\n",
       "      <th>is_stimulation</th>\n",
       "      <th>is_inhibition</th>\n",
       "      <th>form_complex</th>\n",
       "      <th>consensus_direction</th>\n",
       "      <th>consensus_stimulation</th>\n",
       "      <th>consensus_inhibition</th>\n",
       "      <th>curation_effort</th>\n",
       "      <th>references</th>\n",
       "      <th>sources</th>\n",
       "      <th>is_activation</th>\n",
       "    </tr>\n",
       "  </thead>\n",
       "  <tbody>\n",
       "    <tr>\n",
       "      <th>0</th>\n",
       "      <td>A0A024RAD5</td>\n",
       "      <td>SIGNOR-C535</td>\n",
       "      <td>True</td>\n",
       "      <td>False</td>\n",
       "      <td>False</td>\n",
       "      <td>True</td>\n",
       "      <td>False</td>\n",
       "      <td>False</td>\n",
       "      <td>False</td>\n",
       "      <td>miannu</td>\n",
       "      <td>31831667</td>\n",
       "      <td>SIGNOR-272062</td>\n",
       "      <td>True</td>\n",
       "    </tr>\n",
       "    <tr>\n",
       "      <th>1</th>\n",
       "      <td>A0A0B4J2F0</td>\n",
       "      <td>P18848</td>\n",
       "      <td>False</td>\n",
       "      <td>False</td>\n",
       "      <td>True</td>\n",
       "      <td>False</td>\n",
       "      <td>False</td>\n",
       "      <td>False</td>\n",
       "      <td>False</td>\n",
       "      <td>miannu</td>\n",
       "      <td>31653868</td>\n",
       "      <td>SIGNOR-261041</td>\n",
       "      <td>False</td>\n",
       "    </tr>\n",
       "    <tr>\n",
       "      <th>2</th>\n",
       "      <td>A0A0B4J2F0</td>\n",
       "      <td>P35638</td>\n",
       "      <td>False</td>\n",
       "      <td>False</td>\n",
       "      <td>True</td>\n",
       "      <td>False</td>\n",
       "      <td>False</td>\n",
       "      <td>False</td>\n",
       "      <td>False</td>\n",
       "      <td>miannu</td>\n",
       "      <td>31653868</td>\n",
       "      <td>SIGNOR-261043</td>\n",
       "      <td>False</td>\n",
       "    </tr>\n",
       "    <tr>\n",
       "      <th>3</th>\n",
       "      <td>A0A0B4J2F0</td>\n",
       "      <td>SIGNOR-PH2</td>\n",
       "      <td>False</td>\n",
       "      <td>False</td>\n",
       "      <td>True</td>\n",
       "      <td>False</td>\n",
       "      <td>False</td>\n",
       "      <td>False</td>\n",
       "      <td>False</td>\n",
       "      <td>miannu</td>\n",
       "      <td>31653868</td>\n",
       "      <td>SIGNOR-261042</td>\n",
       "      <td>False</td>\n",
       "    </tr>\n",
       "    <tr>\n",
       "      <th>4</th>\n",
       "      <td>A0AVT1</td>\n",
       "      <td>SIGNOR-C496</td>\n",
       "      <td>True</td>\n",
       "      <td>False</td>\n",
       "      <td>False</td>\n",
       "      <td>True</td>\n",
       "      <td>False</td>\n",
       "      <td>False</td>\n",
       "      <td>False</td>\n",
       "      <td>miannu</td>\n",
       "      <td>24816100</td>\n",
       "      <td>SIGNOR-270835</td>\n",
       "      <td>True</td>\n",
       "    </tr>\n",
       "    <tr>\n",
       "      <th>...</th>\n",
       "      <td>...</td>\n",
       "      <td>...</td>\n",
       "      <td>...</td>\n",
       "      <td>...</td>\n",
       "      <td>...</td>\n",
       "      <td>...</td>\n",
       "      <td>...</td>\n",
       "      <td>...</td>\n",
       "      <td>...</td>\n",
       "      <td>...</td>\n",
       "      <td>...</td>\n",
       "      <td>...</td>\n",
       "      <td>...</td>\n",
       "    </tr>\n",
       "    <tr>\n",
       "      <th>29575</th>\n",
       "      <td>URS000075C808_9606</td>\n",
       "      <td>Q6ZN04</td>\n",
       "      <td>True</td>\n",
       "      <td>True</td>\n",
       "      <td>False</td>\n",
       "      <td>False</td>\n",
       "      <td>False</td>\n",
       "      <td>False</td>\n",
       "      <td>False</td>\n",
       "      <td>miannu</td>\n",
       "      <td>24326307</td>\n",
       "      <td>SIGNOR-272092</td>\n",
       "      <td>True</td>\n",
       "    </tr>\n",
       "    <tr>\n",
       "      <th>29576</th>\n",
       "      <td>URS000075C808_9606</td>\n",
       "      <td>Q86Y13</td>\n",
       "      <td>True</td>\n",
       "      <td>True</td>\n",
       "      <td>False</td>\n",
       "      <td>False</td>\n",
       "      <td>False</td>\n",
       "      <td>False</td>\n",
       "      <td>False</td>\n",
       "      <td>miannu</td>\n",
       "      <td>24326307</td>\n",
       "      <td>SIGNOR-272091</td>\n",
       "      <td>True</td>\n",
       "    </tr>\n",
       "    <tr>\n",
       "      <th>29577</th>\n",
       "      <td>URS000075CF56_9606</td>\n",
       "      <td>P05019</td>\n",
       "      <td>True</td>\n",
       "      <td>False</td>\n",
       "      <td>True</td>\n",
       "      <td>False</td>\n",
       "      <td>False</td>\n",
       "      <td>False</td>\n",
       "      <td>False</td>\n",
       "      <td>miannu</td>\n",
       "      <td>25477897</td>\n",
       "      <td>SIGNOR-255793</td>\n",
       "      <td>False</td>\n",
       "    </tr>\n",
       "    <tr>\n",
       "      <th>29578</th>\n",
       "      <td>URS000075CF56_9606</td>\n",
       "      <td>P23759</td>\n",
       "      <td>True</td>\n",
       "      <td>False</td>\n",
       "      <td>True</td>\n",
       "      <td>False</td>\n",
       "      <td>False</td>\n",
       "      <td>False</td>\n",
       "      <td>False</td>\n",
       "      <td>irozzo</td>\n",
       "      <td>24708856</td>\n",
       "      <td>SIGNOR-256124</td>\n",
       "      <td>False</td>\n",
       "    </tr>\n",
       "    <tr>\n",
       "      <th>29579</th>\n",
       "      <td>URS000075D8A0_9606</td>\n",
       "      <td>P61073</td>\n",
       "      <td>False</td>\n",
       "      <td>True</td>\n",
       "      <td>False</td>\n",
       "      <td>False</td>\n",
       "      <td>False</td>\n",
       "      <td>False</td>\n",
       "      <td>False</td>\n",
       "      <td>Luisa</td>\n",
       "      <td>20516212</td>\n",
       "      <td>SIGNOR-268952</td>\n",
       "      <td>True</td>\n",
       "    </tr>\n",
       "  </tbody>\n",
       "</table>\n",
       "<p>29580 rows × 13 columns</p>\n",
       "</div>"
      ],
      "text/plain": [
       "                   source       target  is_directed  is_stimulation  \\\n",
       "0              A0A024RAD5  SIGNOR-C535         True           False   \n",
       "1              A0A0B4J2F0       P18848        False           False   \n",
       "2              A0A0B4J2F0       P35638        False           False   \n",
       "3              A0A0B4J2F0   SIGNOR-PH2        False           False   \n",
       "4                  A0AVT1  SIGNOR-C496         True           False   \n",
       "...                   ...          ...          ...             ...   \n",
       "29575  URS000075C808_9606       Q6ZN04         True            True   \n",
       "29576  URS000075C808_9606       Q86Y13         True            True   \n",
       "29577  URS000075CF56_9606       P05019         True           False   \n",
       "29578  URS000075CF56_9606       P23759         True           False   \n",
       "29579  URS000075D8A0_9606       P61073        False            True   \n",
       "\n",
       "       is_inhibition  form_complex  consensus_direction  \\\n",
       "0              False          True                False   \n",
       "1               True         False                False   \n",
       "2               True         False                False   \n",
       "3               True         False                False   \n",
       "4              False          True                False   \n",
       "...              ...           ...                  ...   \n",
       "29575          False         False                False   \n",
       "29576          False         False                False   \n",
       "29577           True         False                False   \n",
       "29578           True         False                False   \n",
       "29579          False         False                False   \n",
       "\n",
       "       consensus_stimulation  consensus_inhibition curation_effort references  \\\n",
       "0                      False                 False          miannu   31831667   \n",
       "1                      False                 False          miannu   31653868   \n",
       "2                      False                 False          miannu   31653868   \n",
       "3                      False                 False          miannu   31653868   \n",
       "4                      False                 False          miannu   24816100   \n",
       "...                      ...                   ...             ...        ...   \n",
       "29575                  False                 False          miannu   24326307   \n",
       "29576                  False                 False          miannu   24326307   \n",
       "29577                  False                 False          miannu   25477897   \n",
       "29578                  False                 False          irozzo   24708856   \n",
       "29579                  False                 False           Luisa   20516212   \n",
       "\n",
       "             sources  is_activation  \n",
       "0      SIGNOR-272062           True  \n",
       "1      SIGNOR-261041          False  \n",
       "2      SIGNOR-261043          False  \n",
       "3      SIGNOR-261042          False  \n",
       "4      SIGNOR-270835           True  \n",
       "...              ...            ...  \n",
       "29575  SIGNOR-272092           True  \n",
       "29576  SIGNOR-272091           True  \n",
       "29577  SIGNOR-255793          False  \n",
       "29578  SIGNOR-256124          False  \n",
       "29579  SIGNOR-268952           True  \n",
       "\n",
       "[29580 rows x 13 columns]"
      ]
     },
     "execution_count": 34,
     "metadata": {},
     "output_type": "execute_result"
    }
   ],
   "source": [
    "resources.interactions"
   ]
  },
  {
   "cell_type": "markdown",
   "id": "2065dada-a426-4774-80f9-7322db45efd0",
   "metadata": {},
   "source": [
    "In order to avoid conflict or errors, ensure that the file contains at least the following columns: IDA, IDB, EFFECT, ANNOTATOR, PMID, SIGNOR_ID"
   ]
  },
  {
   "cell_type": "markdown",
   "id": "64b445e7-2e45-40ee-9ee9-268965b4d55b",
   "metadata": {},
   "source": [
    "### \n",
    "<div class=\"alert alert-info\">\n",
    "\n",
    "**Note**\n",
    "    \n",
    "SIGNOR uses has different identifiers for complexes, protein family, phenotype, etc.\n",
    "It is possible that the network contains nodes names like \"Signor_pf32\" or something like this... This is not yet translated, but if you are interested in what those nodes consist of, you can use download their vocabulary for the entities: [https://signor.uniroma2.it/downloads.php](https://signor.uniroma2.it/downloads.php)\n",
    "\n",
    "</div>  \n",
    "\n"
   ]
  },
  {
   "cell_type": "markdown",
   "id": "8fe2700c-5b59-4302-9a9e-cc2de59d34af",
   "metadata": {},
   "source": [
    "## 3. Build the network"
   ]
  },
  {
   "cell_type": "markdown",
   "id": "2910c871-fdfc-4d20-b76f-af213f06a3f0",
   "metadata": {},
   "source": [
    "### 3A. Import genes as network nodes"
   ]
  },
  {
   "cell_type": "code",
   "execution_count": 35,
   "id": "79c09e13",
   "metadata": {},
   "outputs": [],
   "source": [
    "genes = [\"SRC\", \"NOTCH1\", \"PTK2\", \"CDH1\", \"CDH2\", \"VIM\", \"MAP4K4\", \"LATS1\", \"LATS2\"]"
   ]
  },
  {
   "cell_type": "markdown",
   "id": "7cd015ca-f1bb-4055-9226-b4b01a0a0111",
   "metadata": {},
   "source": [
    "### 3B. Create network object by specifying the interaction resources"
   ]
  },
  {
   "cell_type": "code",
   "execution_count": 36,
   "id": "fcf68a99-8454-41e3-8816-c3f976d04c0b",
   "metadata": {},
   "outputs": [],
   "source": [
    "new_net1 = Network(genes, resources = resources.interactions)"
   ]
  },
  {
   "cell_type": "code",
   "execution_count": 37,
   "id": "fad00bec-ba72-4943-bf1e-9c60f58f17a2",
   "metadata": {},
   "outputs": [
    {
     "data": {
      "text/html": [
       "<div>\n",
       "<style scoped>\n",
       "    .dataframe tbody tr th:only-of-type {\n",
       "        vertical-align: middle;\n",
       "    }\n",
       "\n",
       "    .dataframe tbody tr th {\n",
       "        vertical-align: top;\n",
       "    }\n",
       "\n",
       "    .dataframe thead th {\n",
       "        text-align: right;\n",
       "    }\n",
       "</style>\n",
       "<table border=\"1\" class=\"dataframe\">\n",
       "  <thead>\n",
       "    <tr style=\"text-align: right;\">\n",
       "      <th></th>\n",
       "      <th>Genesymbol</th>\n",
       "      <th>Uniprot</th>\n",
       "      <th>Type</th>\n",
       "    </tr>\n",
       "  </thead>\n",
       "  <tbody>\n",
       "    <tr>\n",
       "      <th>0</th>\n",
       "      <td>SRC</td>\n",
       "      <td>P12931</td>\n",
       "      <td>NaN</td>\n",
       "    </tr>\n",
       "    <tr>\n",
       "      <th>1</th>\n",
       "      <td>NOTCH1</td>\n",
       "      <td>P46531</td>\n",
       "      <td>NaN</td>\n",
       "    </tr>\n",
       "    <tr>\n",
       "      <th>2</th>\n",
       "      <td>PTK2</td>\n",
       "      <td>Q05397</td>\n",
       "      <td>NaN</td>\n",
       "    </tr>\n",
       "    <tr>\n",
       "      <th>3</th>\n",
       "      <td>CDH1</td>\n",
       "      <td>P12830</td>\n",
       "      <td>NaN</td>\n",
       "    </tr>\n",
       "    <tr>\n",
       "      <th>4</th>\n",
       "      <td>CDH2</td>\n",
       "      <td>P19022</td>\n",
       "      <td>NaN</td>\n",
       "    </tr>\n",
       "    <tr>\n",
       "      <th>5</th>\n",
       "      <td>VIM</td>\n",
       "      <td>P08670</td>\n",
       "      <td>NaN</td>\n",
       "    </tr>\n",
       "    <tr>\n",
       "      <th>6</th>\n",
       "      <td>MAP4K4</td>\n",
       "      <td>O95819</td>\n",
       "      <td>NaN</td>\n",
       "    </tr>\n",
       "    <tr>\n",
       "      <th>7</th>\n",
       "      <td>LATS1</td>\n",
       "      <td>O95835</td>\n",
       "      <td>NaN</td>\n",
       "    </tr>\n",
       "    <tr>\n",
       "      <th>8</th>\n",
       "      <td>LATS2</td>\n",
       "      <td>Q9NRM7</td>\n",
       "      <td>NaN</td>\n",
       "    </tr>\n",
       "  </tbody>\n",
       "</table>\n",
       "</div>"
      ],
      "text/plain": [
       "  Genesymbol Uniprot Type\n",
       "0        SRC  P12931  NaN\n",
       "1     NOTCH1  P46531  NaN\n",
       "2       PTK2  Q05397  NaN\n",
       "3       CDH1  P12830  NaN\n",
       "4       CDH2  P19022  NaN\n",
       "5        VIM  P08670  NaN\n",
       "6     MAP4K4  O95819  NaN\n",
       "7      LATS1  O95835  NaN\n",
       "8      LATS2  Q9NRM7  NaN"
      ]
     },
     "execution_count": 37,
     "metadata": {},
     "output_type": "execute_result"
    }
   ],
   "source": [
    "#Print node dataframe\n",
    "new_net1.nodes"
   ]
  },
  {
   "cell_type": "markdown",
   "id": "a2759581",
   "metadata": {},
   "source": [
    "### 3C. Build network\n",
    "\n",
    "The downstream steps to connect your nodes, are the same. Please see the [Network building](https://omniflow-project.readthedocs.io/en/latest/notebooks/network_building.html) tutorial for detailed explanations of each step."
   ]
  },
  {
   "cell_type": "code",
   "execution_count": 38,
   "id": "a339705b",
   "metadata": {},
   "outputs": [
    {
     "name": "stdout",
     "output_type": "stream",
     "text": [
      "CPU times: user 74.4 ms, sys: 3.93 ms, total: 78.4 ms\n",
      "Wall time: 76.9 ms\n"
     ]
    }
   ],
   "source": [
    "%%time\n",
    "new_net1.connect_nodes(only_signed=True, consensus_only=False)"
   ]
  },
  {
   "cell_type": "code",
   "execution_count": 39,
   "id": "db39112a",
   "metadata": {},
   "outputs": [
    {
     "data": {
      "image/svg+xml": [
       "<?xml version=\"1.0\" encoding=\"UTF-8\" standalone=\"no\"?>\n",
       "<!DOCTYPE svg PUBLIC \"-//W3C//DTD SVG 1.1//EN\"\n",
       " \"http://www.w3.org/Graphics/SVG/1.1/DTD/svg11.dtd\">\n",
       "<!-- Generated by graphviz version 2.43.0 (0)\n",
       " -->\n",
       "<!-- Title: %3 Pages: 1 -->\n",
       "<svg width=\"687pt\" height=\"116pt\"\n",
       " viewBox=\"0.00 0.00 686.69 116.00\" xmlns=\"http://www.w3.org/2000/svg\" xmlns:xlink=\"http://www.w3.org/1999/xlink\">\n",
       "<g id=\"graph0\" class=\"graph\" transform=\"scale(1 1) rotate(0) translate(4 112)\">\n",
       "<title>%3</title>\n",
       "<polygon fill=\"white\" stroke=\"transparent\" points=\"-4,4 -4,-112 682.69,-112 682.69,4 -4,4\"/>\n",
       "<!-- SRC -->\n",
       "<g id=\"node1\" class=\"node\">\n",
       "<title>SRC</title>\n",
       "<ellipse fill=\"lightyellow\" stroke=\"black\" cx=\"127.75\" cy=\"-90\" rx=\"30.59\" ry=\"18\"/>\n",
       "<text text-anchor=\"middle\" x=\"127.75\" y=\"-86.3\" font-family=\"Times,serif\" font-size=\"14.00\">SRC</text>\n",
       "</g>\n",
       "<!-- PTK2 -->\n",
       "<g id=\"node2\" class=\"node\">\n",
       "<title>PTK2</title>\n",
       "<ellipse fill=\"lightyellow\" stroke=\"black\" cx=\"35.75\" cy=\"-18\" rx=\"36\" ry=\"18\"/>\n",
       "<text text-anchor=\"middle\" x=\"35.75\" y=\"-14.3\" font-family=\"Times,serif\" font-size=\"14.00\">PTK2</text>\n",
       "</g>\n",
       "<!-- SRC&#45;&gt;PTK2 -->\n",
       "<g id=\"edge1\" class=\"edge\">\n",
       "<title>SRC&#45;&gt;PTK2</title>\n",
       "<path fill=\"none\" stroke=\"green\" d=\"M109.57,-75.17C96.23,-65.02 77.88,-51.06 62.81,-39.6\"/>\n",
       "<polygon fill=\"green\" stroke=\"green\" points=\"64.91,-36.79 54.84,-33.52 60.67,-42.36 64.91,-36.79\"/>\n",
       "</g>\n",
       "<!-- CDH1 -->\n",
       "<g id=\"node3\" class=\"node\">\n",
       "<title>CDH1</title>\n",
       "<ellipse fill=\"lightyellow\" stroke=\"black\" cx=\"127.75\" cy=\"-18\" rx=\"38.19\" ry=\"18\"/>\n",
       "<text text-anchor=\"middle\" x=\"127.75\" y=\"-14.3\" font-family=\"Times,serif\" font-size=\"14.00\">CDH1</text>\n",
       "</g>\n",
       "<!-- SRC&#45;&gt;CDH1 -->\n",
       "<g id=\"edge2\" class=\"edge\">\n",
       "<title>SRC&#45;&gt;CDH1</title>\n",
       "<path fill=\"none\" stroke=\"red\" d=\"M127.75,-71.7C127.75,-62.46 127.75,-50.98 127.75,-41.11\"/>\n",
       "<polygon fill=\"red\" stroke=\"red\" points=\"122.75,-37.1 132.75,-37.1 132.75,-39.1 122.75,-39.1 122.75,-37.1\"/>\n",
       "<polyline fill=\"none\" stroke=\"red\" points=\"127.75,-36.1 127.75,-41.1 \"/>\n",
       "</g>\n",
       "<!-- CDH2 -->\n",
       "<g id=\"node4\" class=\"node\">\n",
       "<title>CDH2</title>\n",
       "<ellipse fill=\"lightyellow\" stroke=\"black\" cx=\"222.75\" cy=\"-18\" rx=\"38.19\" ry=\"18\"/>\n",
       "<text text-anchor=\"middle\" x=\"222.75\" y=\"-14.3\" font-family=\"Times,serif\" font-size=\"14.00\">CDH2</text>\n",
       "</g>\n",
       "<!-- SRC&#45;&gt;CDH2 -->\n",
       "<g id=\"edge3\" class=\"edge\">\n",
       "<title>SRC&#45;&gt;CDH2</title>\n",
       "<path fill=\"none\" stroke=\"red\" d=\"M146.06,-75.5C161.07,-64.44 182.43,-48.7 198.8,-36.65\"/>\n",
       "<polygon fill=\"red\" stroke=\"red\" points=\"199.08,-30.23 205.01,-38.28 203.4,-39.47 197.46,-31.42 199.08,-30.23\"/>\n",
       "<polyline fill=\"none\" stroke=\"red\" points=\"202.85,-33.66 198.82,-36.63 \"/>\n",
       "</g>\n",
       "<!-- NOTCH1 -->\n",
       "<g id=\"node5\" class=\"node\">\n",
       "<title>NOTCH1</title>\n",
       "<ellipse fill=\"lightyellow\" stroke=\"black\" cx=\"228.75\" cy=\"-90\" rx=\"51.99\" ry=\"18\"/>\n",
       "<text text-anchor=\"middle\" x=\"228.75\" y=\"-86.3\" font-family=\"Times,serif\" font-size=\"14.00\">NOTCH1</text>\n",
       "</g>\n",
       "<!-- VIM -->\n",
       "<g id=\"node6\" class=\"node\">\n",
       "<title>VIM</title>\n",
       "<ellipse fill=\"lightyellow\" stroke=\"black\" cx=\"328.75\" cy=\"-90\" rx=\"29.8\" ry=\"18\"/>\n",
       "<text text-anchor=\"middle\" x=\"328.75\" y=\"-86.3\" font-family=\"Times,serif\" font-size=\"14.00\">VIM</text>\n",
       "</g>\n",
       "<!-- MAP4K4 -->\n",
       "<g id=\"node7\" class=\"node\">\n",
       "<title>MAP4K4</title>\n",
       "<ellipse fill=\"lightyellow\" stroke=\"black\" cx=\"427.75\" cy=\"-90\" rx=\"51.19\" ry=\"18\"/>\n",
       "<text text-anchor=\"middle\" x=\"427.75\" y=\"-86.3\" font-family=\"Times,serif\" font-size=\"14.00\">MAP4K4</text>\n",
       "</g>\n",
       "<!-- LATS1 -->\n",
       "<g id=\"node8\" class=\"node\">\n",
       "<title>LATS1</title>\n",
       "<ellipse fill=\"lightyellow\" stroke=\"black\" cx=\"537.75\" cy=\"-90\" rx=\"40.89\" ry=\"18\"/>\n",
       "<text text-anchor=\"middle\" x=\"537.75\" y=\"-86.3\" font-family=\"Times,serif\" font-size=\"14.00\">LATS1</text>\n",
       "</g>\n",
       "<!-- LATS2 -->\n",
       "<g id=\"node9\" class=\"node\">\n",
       "<title>LATS2</title>\n",
       "<ellipse fill=\"lightyellow\" stroke=\"black\" cx=\"637.75\" cy=\"-90\" rx=\"40.89\" ry=\"18\"/>\n",
       "<text text-anchor=\"middle\" x=\"637.75\" y=\"-86.3\" font-family=\"Times,serif\" font-size=\"14.00\">LATS2</text>\n",
       "</g>\n",
       "</g>\n",
       "</svg>\n"
      ],
      "text/plain": [
       "<graphviz.graphs.Digraph at 0x7fb46a9afbb0>"
      ]
     },
     "metadata": {},
     "output_type": "display_data"
    }
   ],
   "source": [
    "visualizer = NetworkVisualizer(new_net1, color_by='effect', noi=True)\n",
    "visualizer.render()"
   ]
  },
  {
   "cell_type": "markdown",
   "id": "7aae5ca7-5696-44ba-9e75-4a2d1eb0a2d9",
   "metadata": {},
   "source": [
    "<div class=\"alert alert-info\">\n",
    "\n",
    "**Note**\n",
    "    \n",
    "NB! It is important to note, that not all the databases have the same structure as Omnipath. In particular, if the columns \"consensus\" are missing, we suggest to avoid to use the flag `consensus` or `consensus_only` when using NeKo with customize databases. As a general advise, we suggest to always use `consensus=False` when you are using a database different from the Omnipath. \n",
    "\n",
    "</div>  "
   ]
  },
  {
   "cell_type": "code",
   "execution_count": 40,
   "id": "12052b3b-854f-41a0-a762-20de5cbc7b35",
   "metadata": {},
   "outputs": [
    {
     "name": "stdout",
     "output_type": "stream",
     "text": [
      "CPU times: user 7.03 s, sys: 352 ms, total: 7.38 s\n",
      "Wall time: 7.45 s\n"
     ]
    }
   ],
   "source": [
    "%%time\n",
    "new_net1.complete_connection(maxlen=3, algorithm=\"bfs\", only_signed=True, connect_with_bias=False, consensus=False) "
   ]
  },
  {
   "cell_type": "code",
   "execution_count": 41,
   "id": "aca66151-159b-4bc6-85a8-4a537bb2afdf",
   "metadata": {},
   "outputs": [
    {
     "data": {
      "image/svg+xml": [
       "<?xml version=\"1.0\" encoding=\"UTF-8\" standalone=\"no\"?>\n",
       "<!DOCTYPE svg PUBLIC \"-//W3C//DTD SVG 1.1//EN\"\n",
       " \"http://www.w3.org/Graphics/SVG/1.1/DTD/svg11.dtd\">\n",
       "<!-- Generated by graphviz version 2.43.0 (0)\n",
       " -->\n",
       "<!-- Title: %3 Pages: 1 -->\n",
       "<svg width=\"1010pt\" height=\"1052pt\"\n",
       " viewBox=\"0.00 0.00 1010.35 1052.00\" xmlns=\"http://www.w3.org/2000/svg\" xmlns:xlink=\"http://www.w3.org/1999/xlink\">\n",
       "<g id=\"graph0\" class=\"graph\" transform=\"scale(1 1) rotate(0) translate(4 1048)\">\n",
       "<title>%3</title>\n",
       "<polygon fill=\"white\" stroke=\"transparent\" points=\"-4,4 -4,-1048 1006.35,-1048 1006.35,4 -4,4\"/>\n",
       "<!-- SRC -->\n",
       "<g id=\"node1\" class=\"node\">\n",
       "<title>SRC</title>\n",
       "<ellipse fill=\"lightyellow\" stroke=\"black\" cx=\"688.35\" cy=\"-1026\" rx=\"30.59\" ry=\"18\"/>\n",
       "<text text-anchor=\"middle\" x=\"688.35\" y=\"-1022.3\" font-family=\"Times,serif\" font-size=\"14.00\">SRC</text>\n",
       "</g>\n",
       "<!-- PTK2 -->\n",
       "<g id=\"node2\" class=\"node\">\n",
       "<title>PTK2</title>\n",
       "<ellipse fill=\"lightyellow\" stroke=\"black\" cx=\"125.35\" cy=\"-378\" rx=\"36\" ry=\"18\"/>\n",
       "<text text-anchor=\"middle\" x=\"125.35\" y=\"-374.3\" font-family=\"Times,serif\" font-size=\"14.00\">PTK2</text>\n",
       "</g>\n",
       "<!-- SRC&#45;&gt;PTK2 -->\n",
       "<g id=\"edge1\" class=\"edge\">\n",
       "<title>SRC&#45;&gt;PTK2</title>\n",
       "<path fill=\"none\" stroke=\"green\" d=\"M657.69,-1024.7C531.81,-1022.66 61.35,-1006.75 61.35,-883 61.35,-883 61.35,-883 61.35,-521 61.35,-476.54 87.75,-430.62 106.64,-403.45\"/>\n",
       "<polygon fill=\"green\" stroke=\"green\" points=\"109.73,-405.15 112.71,-394.98 104.04,-401.07 109.73,-405.15\"/>\n",
       "</g>\n",
       "<!-- CDH1 -->\n",
       "<g id=\"node3\" class=\"node\">\n",
       "<title>CDH1</title>\n",
       "<ellipse fill=\"lightyellow\" stroke=\"black\" cx=\"575.35\" cy=\"-954\" rx=\"38.19\" ry=\"18\"/>\n",
       "<text text-anchor=\"middle\" x=\"575.35\" y=\"-950.3\" font-family=\"Times,serif\" font-size=\"14.00\">CDH1</text>\n",
       "</g>\n",
       "<!-- SRC&#45;&gt;CDH1 -->\n",
       "<g id=\"edge2\" class=\"edge\">\n",
       "<title>SRC&#45;&gt;CDH1</title>\n",
       "<path fill=\"none\" stroke=\"red\" d=\"M668.15,-1012.49C649.74,-1001.08 622.4,-984.15 602.17,-971.61\"/>\n",
       "<polygon fill=\"red\" stroke=\"red\" points=\"595.92,-973.62 601.19,-965.12 602.89,-966.17 597.62,-974.68 595.92,-973.62\"/>\n",
       "<polyline fill=\"none\" stroke=\"red\" points=\"597.7,-968.85 601.96,-971.48 \"/>\n",
       "</g>\n",
       "<!-- CDH2 -->\n",
       "<g id=\"node4\" class=\"node\">\n",
       "<title>CDH2</title>\n",
       "<ellipse fill=\"lightyellow\" stroke=\"black\" cx=\"269.35\" cy=\"-954\" rx=\"38.19\" ry=\"18\"/>\n",
       "<text text-anchor=\"middle\" x=\"269.35\" y=\"-950.3\" font-family=\"Times,serif\" font-size=\"14.00\">CDH2</text>\n",
       "</g>\n",
       "<!-- SRC&#45;&gt;CDH2 -->\n",
       "<g id=\"edge3\" class=\"edge\">\n",
       "<title>SRC&#45;&gt;CDH2</title>\n",
       "<path fill=\"none\" stroke=\"red\" d=\"M659.22,-1020.13C586.06,-1007.91 394.41,-975.89 310.12,-961.81\"/>\n",
       "<polygon fill=\"red\" stroke=\"red\" points=\"305.14,-966.05 306.78,-956.18 308.76,-956.51 307.11,-966.38 305.14,-966.05\"/>\n",
       "<polyline fill=\"none\" stroke=\"red\" points=\"304.97,-960.95 309.91,-961.77 \"/>\n",
       "</g>\n",
       "<!-- PTEN -->\n",
       "<g id=\"node7\" class=\"node\">\n",
       "<title>PTEN</title>\n",
       "<ellipse fill=\"lightgray\" stroke=\"black\" cx=\"669.35\" cy=\"-450\" rx=\"37.89\" ry=\"18\"/>\n",
       "<text text-anchor=\"middle\" x=\"669.35\" y=\"-446.3\" font-family=\"Times,serif\" font-size=\"14.00\">PTEN</text>\n",
       "</g>\n",
       "<!-- SRC&#45;&gt;PTEN -->\n",
       "<g id=\"edge40\" class=\"edge\">\n",
       "<title>SRC&#45;&gt;PTEN</title>\n",
       "<path fill=\"none\" stroke=\"green\" d=\"M682.64,-1007.95C679.35,-981.29 679.35,-928.11 679.35,-883 679.35,-883 679.35,-883 679.35,-593 679.35,-552.86 671.8,-506.9 668.48,-478.4\"/>\n",
       "<polygon fill=\"green\" stroke=\"green\" points=\"671.95,-477.97 667.43,-468.39 664.99,-478.7 671.95,-477.97\"/>\n",
       "</g>\n",
       "<!-- DAB1 -->\n",
       "<g id=\"node8\" class=\"node\">\n",
       "<title>DAB1</title>\n",
       "<ellipse fill=\"lightgray\" stroke=\"black\" cx=\"612.35\" cy=\"-810\" rx=\"37.09\" ry=\"18\"/>\n",
       "<text text-anchor=\"middle\" x=\"612.35\" y=\"-806.3\" font-family=\"Times,serif\" font-size=\"14.00\">DAB1</text>\n",
       "</g>\n",
       "<!-- SRC&#45;&gt;DAB1 -->\n",
       "<g id=\"edge7\" class=\"edge\">\n",
       "<title>SRC&#45;&gt;DAB1</title>\n",
       "<path fill=\"none\" stroke=\"green\" d=\"M680.71,-1008.45C676.03,-998.08 670.06,-984.37 665.35,-972 647.59,-925.35 630.1,-869.83 620.32,-837.68\"/>\n",
       "<polygon fill=\"green\" stroke=\"green\" points=\"623.66,-836.66 617.42,-828.1 616.96,-838.69 623.66,-836.66\"/>\n",
       "</g>\n",
       "<!-- SIGNOR&#45;PF24 -->\n",
       "<g id=\"node20\" class=\"node\">\n",
       "<title>SIGNOR&#45;PF24</title>\n",
       "<ellipse fill=\"lightgray\" stroke=\"black\" cx=\"622.35\" cy=\"-378\" rx=\"77.19\" ry=\"18\"/>\n",
       "<text text-anchor=\"middle\" x=\"622.35\" y=\"-374.3\" font-family=\"Times,serif\" font-size=\"14.00\">SIGNOR&#45;PF24</text>\n",
       "</g>\n",
       "<!-- SRC&#45;&gt;SIGNOR&#45;PF24 -->\n",
       "<g id=\"edge23\" class=\"edge\">\n",
       "<title>SRC&#45;&gt;SIGNOR&#45;PF24</title>\n",
       "<path fill=\"none\" stroke=\"green\" d=\"M697.64,-1008.54C711.34,-982.66 735.35,-930.52 735.35,-883 735.35,-883 735.35,-883 735.35,-521 735.35,-480.55 740.31,-464.59 716.35,-432 705.5,-417.24 689.22,-406.02 673.24,-397.79\"/>\n",
       "<polygon fill=\"green\" stroke=\"green\" points=\"674.44,-394.48 663.92,-393.29 671.4,-400.79 674.44,-394.48\"/>\n",
       "</g>\n",
       "<!-- CFL1 -->\n",
       "<g id=\"node28\" class=\"node\">\n",
       "<title>CFL1</title>\n",
       "<ellipse fill=\"lightgray\" stroke=\"black\" cx=\"763.35\" cy=\"-378\" rx=\"36\" ry=\"18\"/>\n",
       "<text text-anchor=\"middle\" x=\"763.35\" y=\"-374.3\" font-family=\"Times,serif\" font-size=\"14.00\">CFL1</text>\n",
       "</g>\n",
       "<!-- SRC&#45;&gt;CFL1 -->\n",
       "<g id=\"edge32\" class=\"edge\">\n",
       "<title>SRC&#45;&gt;CFL1</title>\n",
       "<path fill=\"none\" stroke=\"red\" d=\"M715.41,-1017.2C737.89,-1009.35 769.04,-995.05 787.35,-972 812.84,-939.92 811.35,-923.97 811.35,-883 811.35,-883 811.35,-883 811.35,-665 811.35,-565.17 782.56,-448.42 769.57,-400.84\"/>\n",
       "<polygon fill=\"red\" stroke=\"red\" points=\"763.67,-398.21 773.31,-395.56 773.84,-397.48 764.2,-400.14 763.67,-398.21\"/>\n",
       "<polyline fill=\"none\" stroke=\"red\" points=\"768.22,-395.92 769.55,-400.74 \"/>\n",
       "</g>\n",
       "<!-- PAK2 -->\n",
       "<g id=\"node32\" class=\"node\">\n",
       "<title>PAK2</title>\n",
       "<ellipse fill=\"lightgray\" stroke=\"black\" cx=\"852.35\" cy=\"-378\" rx=\"36\" ry=\"18\"/>\n",
       "<text text-anchor=\"middle\" x=\"852.35\" y=\"-374.3\" font-family=\"Times,serif\" font-size=\"14.00\">PAK2</text>\n",
       "</g>\n",
       "<!-- SRC&#45;&gt;PAK2 -->\n",
       "<g id=\"edge37\" class=\"edge\">\n",
       "<title>SRC&#45;&gt;PAK2</title>\n",
       "<path fill=\"none\" stroke=\"green\" d=\"M704.34,-1010.56C728.96,-986.64 773.35,-936.15 773.35,-883 773.35,-883 773.35,-883 773.35,-665 773.35,-565.97 817.91,-454.38 840.1,-404.95\"/>\n",
       "<polygon fill=\"green\" stroke=\"green\" points=\"843.38,-406.19 844.34,-395.64 837.01,-403.28 843.38,-406.19\"/>\n",
       "</g>\n",
       "<!-- PIK3R1 -->\n",
       "<g id=\"node9\" class=\"node\">\n",
       "<title>PIK3R1</title>\n",
       "<ellipse fill=\"lightgray\" stroke=\"black\" cx=\"135.35\" cy=\"-306\" rx=\"46.29\" ry=\"18\"/>\n",
       "<text text-anchor=\"middle\" x=\"135.35\" y=\"-302.3\" font-family=\"Times,serif\" font-size=\"14.00\">PIK3R1</text>\n",
       "</g>\n",
       "<!-- PTK2&#45;&gt;PIK3R1 -->\n",
       "<g id=\"edge9\" class=\"edge\">\n",
       "<title>PTK2&#45;&gt;PIK3R1</title>\n",
       "<path fill=\"none\" stroke=\"green\" d=\"M127.83,-359.7C128.93,-351.98 130.25,-342.71 131.48,-334.11\"/>\n",
       "<polygon fill=\"green\" stroke=\"green\" points=\"134.96,-334.5 132.91,-324.1 128.03,-333.51 134.96,-334.5\"/>\n",
       "</g>\n",
       "<!-- LRP6 -->\n",
       "<g id=\"node11\" class=\"node\">\n",
       "<title>LRP6</title>\n",
       "<ellipse fill=\"lightgray\" stroke=\"black\" cx=\"576.35\" cy=\"-882\" rx=\"36\" ry=\"18\"/>\n",
       "<text text-anchor=\"middle\" x=\"576.35\" y=\"-878.3\" font-family=\"Times,serif\" font-size=\"14.00\">LRP6</text>\n",
       "</g>\n",
       "<!-- CDH1&#45;&gt;LRP6 -->\n",
       "<g id=\"edge12\" class=\"edge\">\n",
       "<title>CDH1&#45;&gt;LRP6</title>\n",
       "<path fill=\"none\" stroke=\"green\" d=\"M575.6,-935.7C575.71,-927.98 575.84,-918.71 575.97,-910.11\"/>\n",
       "<polygon fill=\"green\" stroke=\"green\" points=\"579.47,-910.15 576.11,-900.1 572.47,-910.05 579.47,-910.15\"/>\n",
       "</g>\n",
       "<!-- CDON -->\n",
       "<g id=\"node13\" class=\"node\">\n",
       "<title>CDON</title>\n",
       "<ellipse fill=\"lightgray\" stroke=\"black\" cx=\"129.35\" cy=\"-738\" rx=\"40.09\" ry=\"18\"/>\n",
       "<text text-anchor=\"middle\" x=\"129.35\" y=\"-734.3\" font-family=\"Times,serif\" font-size=\"14.00\">CDON</text>\n",
       "</g>\n",
       "<!-- CDH2&#45;&gt;CDON -->\n",
       "<g id=\"edge15\" class=\"edge\">\n",
       "<title>CDH2&#45;&gt;CDON</title>\n",
       "<path fill=\"none\" stroke=\"green\" d=\"M258.6,-936.56C234.22,-899.3 174.62,-808.19 145.67,-763.94\"/>\n",
       "<polygon fill=\"green\" stroke=\"green\" points=\"148.55,-761.95 140.14,-755.49 142.69,-765.78 148.55,-761.95\"/>\n",
       "</g>\n",
       "<!-- NOTCH1 -->\n",
       "<g id=\"node5\" class=\"node\">\n",
       "<title>NOTCH1</title>\n",
       "<ellipse fill=\"lightyellow\" stroke=\"black\" cx=\"523.35\" cy=\"-594\" rx=\"51.99\" ry=\"18\"/>\n",
       "<text text-anchor=\"middle\" x=\"523.35\" y=\"-590.3\" font-family=\"Times,serif\" font-size=\"14.00\">NOTCH1</text>\n",
       "</g>\n",
       "<!-- PPARG -->\n",
       "<g id=\"node6\" class=\"node\">\n",
       "<title>PPARG</title>\n",
       "<ellipse fill=\"lightgray\" stroke=\"black\" cx=\"483.35\" cy=\"-522\" rx=\"43.59\" ry=\"18\"/>\n",
       "<text text-anchor=\"middle\" x=\"483.35\" y=\"-518.3\" font-family=\"Times,serif\" font-size=\"14.00\">PPARG</text>\n",
       "</g>\n",
       "<!-- NOTCH1&#45;&gt;PPARG -->\n",
       "<g id=\"edge4\" class=\"edge\">\n",
       "<title>NOTCH1&#45;&gt;PPARG</title>\n",
       "<path fill=\"none\" stroke=\"green\" d=\"M513.67,-576.05C508.95,-567.8 503.18,-557.7 497.95,-548.54\"/>\n",
       "<polygon fill=\"green\" stroke=\"green\" points=\"500.95,-546.73 492.95,-539.79 494.87,-550.21 500.95,-546.73\"/>\n",
       "</g>\n",
       "<!-- PPARG&#45;&gt;PTEN -->\n",
       "<g id=\"edge5\" class=\"edge\">\n",
       "<title>PPARG&#45;&gt;PTEN</title>\n",
       "<path fill=\"none\" stroke=\"red\" d=\"M514.49,-509.28C548,-496.67 601.13,-476.68 635.62,-463.7\"/>\n",
       "<polygon fill=\"red\" stroke=\"red\" points=\"637.87,-457.51 641.39,-466.86 639.52,-467.57 636,-458.21 637.87,-457.51\"/>\n",
       "<polyline fill=\"none\" stroke=\"red\" points=\"640.57,-461.83 635.89,-463.59 \"/>\n",
       "</g>\n",
       "<!-- SIGNOR&#45;C13 -->\n",
       "<g id=\"node18\" class=\"node\">\n",
       "<title>SIGNOR&#45;C13</title>\n",
       "<ellipse fill=\"lightgray\" stroke=\"black\" cx=\"405.35\" cy=\"-738\" rx=\"71.49\" ry=\"18\"/>\n",
       "<text text-anchor=\"middle\" x=\"405.35\" y=\"-734.3\" font-family=\"Times,serif\" font-size=\"14.00\">SIGNOR&#45;C13</text>\n",
       "</g>\n",
       "<!-- PPARG&#45;&gt;SIGNOR&#45;C13 -->\n",
       "<g id=\"edge51\" class=\"edge\">\n",
       "<title>PPARG&#45;&gt;SIGNOR&#45;C13</title>\n",
       "<path fill=\"none\" stroke=\"red\" d=\"M461.45,-537.61C432.79,-558.23 384.02,-598.9 365.35,-648 359.67,-662.96 360.27,-668.83 365.35,-684 369.26,-695.65 376.84,-706.78 384.37,-715.81\"/>\n",
       "<polygon fill=\"red\" stroke=\"red\" points=\"391.17,-716.05 383.6,-722.58 382.29,-721.06 389.86,-714.53 391.17,-716.05\"/>\n",
       "<polyline fill=\"none\" stroke=\"red\" points=\"388.04,-720.07 384.77,-716.28 \"/>\n",
       "</g>\n",
       "<!-- PTEN&#45;&gt;SRC -->\n",
       "<g id=\"edge6\" class=\"edge\">\n",
       "<title>PTEN&#45;&gt;SRC</title>\n",
       "<path fill=\"none\" stroke=\"red\" d=\"M678.68,-467.52C687.54,-493.9 697.35,-547.23 697.35,-593 697.35,-883 697.35,-883 697.35,-883 697.35,-925.29 697.35,-974.68 694.65,-1002.65\"/>\n",
       "<polygon fill=\"red\" stroke=\"red\" points=\"699.15,-1007.5 689.2,-1006.41 689.42,-1004.43 699.36,-1005.51 699.15,-1007.5\"/>\n",
       "<polyline fill=\"none\" stroke=\"red\" points=\"694.07,-1007.95 694.61,-1002.98 \"/>\n",
       "</g>\n",
       "<!-- PTEN&#45;&gt;PTK2 -->\n",
       "<g id=\"edge43\" class=\"edge\">\n",
       "<title>PTEN&#45;&gt;PTK2</title>\n",
       "<path fill=\"none\" stroke=\"red\" d=\"M633.24,-444.35C535.46,-431.77 266.12,-397.11 164.69,-384.06\"/>\n",
       "<polygon fill=\"red\" stroke=\"red\" points=\"160.05,-388.51 161.33,-378.59 163.31,-378.84 162.03,-388.76 160.05,-388.51\"/>\n",
       "<polyline fill=\"none\" stroke=\"red\" points=\"159.7,-383.42 164.65,-384.06 \"/>\n",
       "</g>\n",
       "<!-- PTEN&#45;&gt;SIGNOR&#45;PF24 -->\n",
       "<g id=\"edge54\" class=\"edge\">\n",
       "<title>PTEN&#45;&gt;SIGNOR&#45;PF24</title>\n",
       "<path fill=\"none\" stroke=\"red\" d=\"M658.45,-432.76C652,-423.15 643.75,-410.86 636.76,-400.45\"/>\n",
       "<polygon fill=\"red\" stroke=\"red\" points=\"630.26,-399.74 638.56,-394.17 639.67,-395.83 631.37,-401.4 630.26,-399.74\"/>\n",
       "<polyline fill=\"none\" stroke=\"red\" points=\"633.85,-396.12 636.64,-400.28 \"/>\n",
       "</g>\n",
       "<!-- PTEN&#45;&gt;CFL1 -->\n",
       "<g id=\"edge55\" class=\"edge\">\n",
       "<title>PTEN&#45;&gt;CFL1</title>\n",
       "<path fill=\"none\" stroke=\"green\" d=\"M688.83,-434.5C702.41,-424.39 720.71,-410.75 735.78,-399.53\"/>\n",
       "<polygon fill=\"green\" stroke=\"green\" points=\"738.29,-402.03 744.22,-393.25 734.11,-396.41 738.29,-402.03\"/>\n",
       "</g>\n",
       "<!-- DAB1&#45;&gt;NOTCH1 -->\n",
       "<g id=\"edge8\" class=\"edge\">\n",
       "<title>DAB1&#45;&gt;NOTCH1</title>\n",
       "<path fill=\"none\" stroke=\"green\" d=\"M605.37,-792.21C589.94,-755.11 552.85,-665.92 534.3,-621.32\"/>\n",
       "<polygon fill=\"green\" stroke=\"green\" points=\"537.5,-619.9 530.43,-612.01 531.04,-622.59 537.5,-619.9\"/>\n",
       "</g>\n",
       "<!-- PIK3CG -->\n",
       "<g id=\"node10\" class=\"node\">\n",
       "<title>PIK3CG</title>\n",
       "<ellipse fill=\"lightgray\" stroke=\"black\" cx=\"61.35\" cy=\"-234\" rx=\"47.39\" ry=\"18\"/>\n",
       "<text text-anchor=\"middle\" x=\"61.35\" y=\"-230.3\" font-family=\"Times,serif\" font-size=\"14.00\">PIK3CG</text>\n",
       "</g>\n",
       "<!-- PIK3R1&#45;&gt;PIK3CG -->\n",
       "<g id=\"edge10\" class=\"edge\">\n",
       "<title>PIK3R1&#45;&gt;PIK3CG</title>\n",
       "<path fill=\"none\" stroke=\"green\" d=\"M118.56,-289.12C108.89,-279.96 96.55,-268.29 85.81,-258.13\"/>\n",
       "<polygon fill=\"green\" stroke=\"green\" points=\"88.01,-255.39 78.34,-251.06 83.19,-260.48 88.01,-255.39\"/>\n",
       "</g>\n",
       "<!-- PIK3CG&#45;&gt;SRC -->\n",
       "<g id=\"edge11\" class=\"edge\">\n",
       "<title>PIK3CG&#45;&gt;SRC</title>\n",
       "<path fill=\"none\" stroke=\"green\" d=\"M53.66,-252.09C42.56,-278.38 23.35,-330.55 23.35,-377 23.35,-883 23.35,-883 23.35,-883 23.35,-935.6 54.47,-948.15 101.35,-972 197.09,-1020.7 530.6,-1025.17 647.49,-1025.2\"/>\n",
       "<polygon fill=\"green\" stroke=\"green\" points=\"647.8,-1028.7 657.79,-1025.19 647.79,-1021.7 647.8,-1028.7\"/>\n",
       "</g>\n",
       "<!-- GSK3B -->\n",
       "<g id=\"node12\" class=\"node\">\n",
       "<title>GSK3B</title>\n",
       "<ellipse fill=\"lightgray\" stroke=\"black\" cx=\"512.35\" cy=\"-810\" rx=\"44.39\" ry=\"18\"/>\n",
       "<text text-anchor=\"middle\" x=\"512.35\" y=\"-806.3\" font-family=\"Times,serif\" font-size=\"14.00\">GSK3B</text>\n",
       "</g>\n",
       "<!-- LRP6&#45;&gt;GSK3B -->\n",
       "<g id=\"edge13\" class=\"edge\">\n",
       "<title>LRP6&#45;&gt;GSK3B</title>\n",
       "<path fill=\"none\" stroke=\"green\" d=\"M557.5,-866.5C548.21,-857.59 537.26,-845.94 528.38,-835.62\"/>\n",
       "<polygon fill=\"green\" stroke=\"green\" points=\"530.87,-833.13 521.77,-827.7 525.49,-837.62 530.87,-833.13\"/>\n",
       "</g>\n",
       "<!-- GSK3B&#45;&gt;SRC -->\n",
       "<g id=\"edge14\" class=\"edge\">\n",
       "<title>GSK3B&#45;&gt;SRC</title>\n",
       "<path fill=\"none\" stroke=\"red\" d=\"M508.38,-827.97C501.91,-860.22 493.1,-930.82 528.35,-972 559.37,-1008.23 615.75,-1019.81 652.62,-1023.44\"/>\n",
       "<polygon fill=\"red\" stroke=\"red\" points=\"657.37,-1018.85 656.47,-1028.81 654.47,-1028.63 655.38,-1018.67 657.37,-1018.85\"/>\n",
       "<polyline fill=\"none\" stroke=\"red\" points=\"657.91,-1023.92 652.93,-1023.47 \"/>\n",
       "</g>\n",
       "<!-- GSK3B&#45;&gt;CDH1 -->\n",
       "<g id=\"edge44\" class=\"edge\">\n",
       "<title>GSK3B&#45;&gt;CDH1</title>\n",
       "<path fill=\"none\" stroke=\"green\" d=\"M513.57,-828.19C515.43,-846.72 520.05,-876.69 531.35,-900 536.55,-910.71 544.35,-921.1 551.96,-929.81\"/>\n",
       "<polygon fill=\"green\" stroke=\"green\" points=\"549.47,-932.27 558.8,-937.29 554.63,-927.55 549.47,-932.27\"/>\n",
       "</g>\n",
       "<!-- GSK3B&#45;&gt;NOTCH1 -->\n",
       "<g id=\"edge41\" class=\"edge\">\n",
       "<title>GSK3B&#45;&gt;NOTCH1</title>\n",
       "<path fill=\"none\" stroke=\"green\" d=\"M513.24,-791.85C515.14,-754.83 519.64,-667.18 521.95,-622.39\"/>\n",
       "<polygon fill=\"green\" stroke=\"green\" points=\"525.45,-622.4 522.47,-612.23 518.46,-622.04 525.45,-622.4\"/>\n",
       "</g>\n",
       "<!-- GSK3B&#45;&gt;PTEN -->\n",
       "<g id=\"edge53\" class=\"edge\">\n",
       "<title>GSK3B&#45;&gt;PTEN</title>\n",
       "<path fill=\"none\" stroke=\"red\" d=\"M538.46,-795.46C576.15,-773.82 641.35,-727.62 641.35,-667 641.35,-667 641.35,-667 641.35,-593 641.35,-549.71 654.03,-500.38 662.33,-472.74\"/>\n",
       "<polygon fill=\"red\" stroke=\"red\" points=\"658.75,-467.34 668.31,-470.25 667.73,-472.16 658.16,-469.25 658.75,-467.34\"/>\n",
       "<polyline fill=\"none\" stroke=\"red\" points=\"663.82,-467.84 662.36,-472.62 \"/>\n",
       "</g>\n",
       "<!-- GSK3B&#45;&gt;LRP6 -->\n",
       "<g id=\"edge56\" class=\"edge\">\n",
       "<title>GSK3B&#45;&gt;LRP6</title>\n",
       "<path fill=\"none\" stroke=\"green\" d=\"M532.25,-826.51C541.42,-835.38 552.01,-846.7 560.62,-856.72\"/>\n",
       "<polygon fill=\"green\" stroke=\"green\" points=\"557.94,-858.97 567.03,-864.41 563.31,-854.49 557.94,-858.97\"/>\n",
       "</g>\n",
       "<!-- MAPK14 -->\n",
       "<g id=\"node14\" class=\"node\">\n",
       "<title>MAPK14</title>\n",
       "<ellipse fill=\"lightgray\" stroke=\"black\" cx=\"317.35\" cy=\"-306\" rx=\"51.19\" ry=\"18\"/>\n",
       "<text text-anchor=\"middle\" x=\"317.35\" y=\"-302.3\" font-family=\"Times,serif\" font-size=\"14.00\">MAPK14</text>\n",
       "</g>\n",
       "<!-- GSK3B&#45;&gt;MAPK14 -->\n",
       "<g id=\"edge57\" class=\"edge\">\n",
       "<title>GSK3B&#45;&gt;MAPK14</title>\n",
       "<path fill=\"none\" stroke=\"red\" d=\"M468.93,-806.17C398.77,-800.5 265.32,-785.68 230.35,-756 198.19,-728.7 197.35,-709.19 197.35,-667 197.35,-667 197.35,-667 197.35,-593 197.35,-486.97 264.48,-372.89 298.56,-327.4\"/>\n",
       "<polygon fill=\"red\" stroke=\"red\" points=\"297.17,-320.98 305.12,-327.05 303.91,-328.64 295.96,-322.57 297.17,-320.98\"/>\n",
       "<polyline fill=\"none\" stroke=\"red\" points=\"301.76,-323.22 298.72,-327.2 \"/>\n",
       "</g>\n",
       "<!-- GSK3B&#45;&gt;SIGNOR&#45;C13 -->\n",
       "<g id=\"edge58\" class=\"edge\">\n",
       "<title>GSK3B&#45;&gt;SIGNOR&#45;C13</title>\n",
       "<path fill=\"none\" stroke=\"green\" d=\"M489.92,-794.33C475,-784.56 455.14,-771.57 438.41,-760.63\"/>\n",
       "<polygon fill=\"green\" stroke=\"green\" points=\"440.28,-757.67 430,-755.12 436.45,-763.52 440.28,-757.67\"/>\n",
       "</g>\n",
       "<!-- CDON&#45;&gt;MAPK14 -->\n",
       "<g id=\"edge16\" class=\"edge\">\n",
       "<title>CDON&#45;&gt;MAPK14</title>\n",
       "<path fill=\"none\" stroke=\"green\" d=\"M123.43,-720.19C114.68,-693.86 99.35,-641.11 99.35,-595 99.35,-595 99.35,-595 99.35,-521 99.35,-469.06 226.97,-371.33 286.92,-328.28\"/>\n",
       "<polygon fill=\"green\" stroke=\"green\" points=\"289.14,-330.99 295.25,-322.34 285.08,-325.29 289.14,-330.99\"/>\n",
       "</g>\n",
       "<!-- MAPK14&#45;&gt;PPARG -->\n",
       "<g id=\"edge50\" class=\"edge\">\n",
       "<title>MAPK14&#45;&gt;PPARG</title>\n",
       "<path fill=\"none\" stroke=\"green\" d=\"M328.12,-323.74C339.96,-341.89 359.77,-371.54 378.35,-396 405.93,-432.29 440.3,-472.32 462.04,-497.06\"/>\n",
       "<polygon fill=\"green\" stroke=\"green\" points=\"459.66,-499.66 468.9,-504.84 464.91,-495.03 459.66,-499.66\"/>\n",
       "</g>\n",
       "<!-- MAPK14&#45;&gt;GSK3B -->\n",
       "<g id=\"edge17\" class=\"edge\">\n",
       "<title>MAPK14&#45;&gt;GSK3B</title>\n",
       "<path fill=\"none\" stroke=\"red\" d=\"M310.1,-323.84C286.19,-366.67 215.35,-484.08 215.35,-593 215.35,-667 215.35,-667 215.35,-667 215.35,-709.19 216.19,-728.7 248.35,-756 280.73,-783.48 397.52,-798.22 464.51,-804.75\"/>\n",
       "<polygon fill=\"red\" stroke=\"red\" points=\"469.12,-800.17 468.16,-810.13 466.17,-809.94 467.13,-799.98 469.12,-800.17\"/>\n",
       "<polyline fill=\"none\" stroke=\"red\" points=\"469.64,-805.25 464.66,-804.77 \"/>\n",
       "</g>\n",
       "<!-- MAPK14&#45;&gt;SIGNOR&#45;PF24 -->\n",
       "<g id=\"edge61\" class=\"edge\">\n",
       "<title>MAPK14&#45;&gt;SIGNOR&#45;PF24</title>\n",
       "<path fill=\"none\" stroke=\"purple\" d=\"M359.17,-316.61C368.51,-319.12 378.28,-321.75 387.35,-324 444.64,-338.19 510.01,-352.28 557.3,-362.36\"/>\n",
       "<polygon fill=\"purple\" stroke=\"purple\" points=\"557.49,-362.4 564.19,-359.74 569.23,-364.9 562.52,-367.56 557.49,-362.4\"/>\n",
       "</g>\n",
       "<!-- SIGNOR&#45;PF25 -->\n",
       "<g id=\"node23\" class=\"node\">\n",
       "<title>SIGNOR&#45;PF25</title>\n",
       "<ellipse fill=\"lightgray\" stroke=\"black\" cx=\"351.35\" cy=\"-234\" rx=\"77.19\" ry=\"18\"/>\n",
       "<text text-anchor=\"middle\" x=\"351.35\" y=\"-230.3\" font-family=\"Times,serif\" font-size=\"14.00\">SIGNOR&#45;PF25</text>\n",
       "</g>\n",
       "<!-- MAPK14&#45;&gt;SIGNOR&#45;PF25 -->\n",
       "<g id=\"edge63\" class=\"edge\">\n",
       "<title>MAPK14&#45;&gt;SIGNOR&#45;PF25</title>\n",
       "<path fill=\"none\" stroke=\"red\" d=\"M325.58,-288.05C330.11,-278.74 335.78,-267.07 340.65,-257.04\"/>\n",
       "<polygon fill=\"red\" stroke=\"red\" points=\"338.03,-250.99 347.02,-255.36 346.15,-257.16 337.15,-252.79 338.03,-250.99\"/>\n",
       "<polyline fill=\"none\" stroke=\"red\" points=\"342.96,-252.28 340.78,-256.77 \"/>\n",
       "</g>\n",
       "<!-- VIM -->\n",
       "<g id=\"node15\" class=\"node\">\n",
       "<title>VIM</title>\n",
       "<ellipse fill=\"lightyellow\" stroke=\"black\" cx=\"651.35\" cy=\"-306\" rx=\"29.8\" ry=\"18\"/>\n",
       "<text text-anchor=\"middle\" x=\"651.35\" y=\"-302.3\" font-family=\"Times,serif\" font-size=\"14.00\">VIM</text>\n",
       "</g>\n",
       "<!-- LARP6 -->\n",
       "<g id=\"node16\" class=\"node\">\n",
       "<title>LARP6</title>\n",
       "<ellipse fill=\"lightgray\" stroke=\"black\" cx=\"523.35\" cy=\"-234\" rx=\"42.49\" ry=\"18\"/>\n",
       "<text text-anchor=\"middle\" x=\"523.35\" y=\"-230.3\" font-family=\"Times,serif\" font-size=\"14.00\">LARP6</text>\n",
       "</g>\n",
       "<!-- VIM&#45;&gt;LARP6 -->\n",
       "<g id=\"edge18\" class=\"edge\">\n",
       "<title>VIM&#45;&gt;LARP6</title>\n",
       "<path fill=\"none\" stroke=\"green\" d=\"M629.93,-293.28C610.08,-282.43 580.22,-266.1 557.15,-253.48\"/>\n",
       "<polygon fill=\"green\" stroke=\"green\" points=\"558.82,-250.4 548.36,-248.68 555.46,-256.55 558.82,-250.4\"/>\n",
       "</g>\n",
       "<!-- DHX9 -->\n",
       "<g id=\"node17\" class=\"node\">\n",
       "<title>DHX9</title>\n",
       "<ellipse fill=\"lightgray\" stroke=\"black\" cx=\"254.35\" cy=\"-162\" rx=\"38.19\" ry=\"18\"/>\n",
       "<text text-anchor=\"middle\" x=\"254.35\" y=\"-158.3\" font-family=\"Times,serif\" font-size=\"14.00\">DHX9</text>\n",
       "</g>\n",
       "<!-- LARP6&#45;&gt;DHX9 -->\n",
       "<g id=\"edge19\" class=\"edge\">\n",
       "<title>LARP6&#45;&gt;DHX9</title>\n",
       "<path fill=\"none\" stroke=\"green\" d=\"M488.19,-223.85C438.95,-211.04 349.59,-187.78 296.75,-174.03\"/>\n",
       "<polygon fill=\"green\" stroke=\"green\" points=\"297.56,-170.63 287,-171.5 295.8,-177.4 297.56,-170.63\"/>\n",
       "</g>\n",
       "<!-- DHX9&#45;&gt;SIGNOR&#45;C13 -->\n",
       "<g id=\"edge20\" class=\"edge\">\n",
       "<title>DHX9&#45;&gt;SIGNOR&#45;C13</title>\n",
       "<path fill=\"none\" stroke=\"green\" d=\"M216.51,-165.4C153.53,-170.26 31.5,-183.71 5.35,-216 -4.71,-228.44 2.45,-236.27 5.35,-252 46.46,-474.81 283.92,-655.18 372.26,-715.43\"/>\n",
       "<polygon fill=\"green\" stroke=\"green\" points=\"370.33,-718.35 380.58,-721.05 374.25,-712.55 370.33,-718.35\"/>\n",
       "</g>\n",
       "<!-- TNF -->\n",
       "<g id=\"node19\" class=\"node\">\n",
       "<title>TNF</title>\n",
       "<ellipse fill=\"lightgray\" stroke=\"black\" cx=\"405.35\" cy=\"-666\" rx=\"30.59\" ry=\"18\"/>\n",
       "<text text-anchor=\"middle\" x=\"405.35\" y=\"-662.3\" font-family=\"Times,serif\" font-size=\"14.00\">TNF</text>\n",
       "</g>\n",
       "<!-- SIGNOR&#45;C13&#45;&gt;TNF -->\n",
       "<g id=\"edge21\" class=\"edge\">\n",
       "<title>SIGNOR&#45;C13&#45;&gt;TNF</title>\n",
       "<path fill=\"none\" stroke=\"green\" d=\"M399.48,-720.05C398.65,-712.23 398.41,-702.75 398.76,-693.98\"/>\n",
       "<polygon fill=\"green\" stroke=\"green\" points=\"402.27,-694.01 399.49,-683.79 395.29,-693.51 402.27,-694.01\"/>\n",
       "</g>\n",
       "<!-- TNF&#45;&gt;NOTCH1 -->\n",
       "<g id=\"edge42\" class=\"edge\">\n",
       "<title>TNF&#45;&gt;NOTCH1</title>\n",
       "<path fill=\"none\" stroke=\"green\" d=\"M426.18,-652.65C443.7,-642.25 469.09,-627.19 489.53,-615.07\"/>\n",
       "<polygon fill=\"green\" stroke=\"green\" points=\"491.42,-618.02 498.23,-609.9 487.84,-612 491.42,-618.02\"/>\n",
       "</g>\n",
       "<!-- TNF&#45;&gt;PIK3CG -->\n",
       "<g id=\"edge22\" class=\"edge\">\n",
       "<title>TNF&#45;&gt;PIK3CG</title>\n",
       "<path fill=\"none\" stroke=\"green\" d=\"M396.75,-648.69C377.34,-612.31 329.91,-526.03 305.35,-504 300.19,-499.37 84.38,-401.64 80.35,-396 52.08,-356.43 53.32,-296.92 57.11,-262.42\"/>\n",
       "<polygon fill=\"green\" stroke=\"green\" points=\"60.63,-262.52 58.4,-252.16 53.68,-261.65 60.63,-262.52\"/>\n",
       "</g>\n",
       "<!-- TNF&#45;&gt;MAPK14 -->\n",
       "<g id=\"edge60\" class=\"edge\">\n",
       "<title>TNF&#45;&gt;MAPK14</title>\n",
       "<path fill=\"none\" stroke=\"green\" d=\"M401.11,-647.73C386.94,-590.08 341.17,-403.89 323.97,-333.92\"/>\n",
       "<polygon fill=\"green\" stroke=\"green\" points=\"327.34,-332.97 321.56,-324.09 320.54,-334.64 327.34,-332.97\"/>\n",
       "</g>\n",
       "<!-- TNF&#45;&gt;SIGNOR&#45;C13 -->\n",
       "<g id=\"edge65\" class=\"edge\">\n",
       "<title>TNF&#45;&gt;SIGNOR&#45;C13</title>\n",
       "<path fill=\"none\" stroke=\"green\" d=\"M411.22,-683.79C412.05,-691.59 412.3,-701.07 411.95,-709.85\"/>\n",
       "<polygon fill=\"green\" stroke=\"green\" points=\"408.44,-709.83 411.23,-720.05 415.43,-710.33 408.44,-709.83\"/>\n",
       "</g>\n",
       "<!-- TNF&#45;&gt;SIGNOR&#45;PF24 -->\n",
       "<g id=\"edge66\" class=\"edge\">\n",
       "<title>TNF&#45;&gt;SIGNOR&#45;PF24</title>\n",
       "<path fill=\"none\" stroke=\"green\" d=\"M412.6,-648.29C421.76,-628.79 439.18,-596.61 462.35,-576 489.68,-551.69 510.45,-565.82 536.35,-540 574.23,-502.26 563.41,-478.75 589.35,-432 594.43,-422.86 600.36,-413.08 605.79,-404.44\"/>\n",
       "<polygon fill=\"green\" stroke=\"green\" points=\"608.79,-406.24 611.21,-395.92 602.89,-402.48 608.79,-406.24\"/>\n",
       "</g>\n",
       "<!-- SIGNOR&#45;PF24&#45;&gt;GSK3B -->\n",
       "<g id=\"edge59\" class=\"edge\">\n",
       "<title>SIGNOR&#45;PF24&#45;&gt;GSK3B</title>\n",
       "<path fill=\"none\" stroke=\"red\" d=\"M618.51,-396.39C612.96,-423.06 603.35,-475.73 603.35,-521 603.35,-595 603.35,-595 603.35,-595 603.35,-671.23 553.85,-751.43 527.86,-788.27\"/>\n",
       "<polygon fill=\"red\" stroke=\"red\" points=\"529.47,-794.64 521.33,-788.83 522.49,-787.2 530.63,-793.01 529.47,-794.64\"/>\n",
       "<polyline fill=\"none\" stroke=\"red\" points=\"524.82,-792.55 527.72,-788.48 \"/>\n",
       "</g>\n",
       "<!-- SIGNOR&#45;PF24&#45;&gt;MAPK14 -->\n",
       "<g id=\"edge62\" class=\"edge\">\n",
       "<title>SIGNOR&#45;PF24&#45;&gt;MAPK14</title>\n",
       "<path fill=\"none\" stroke=\"red\" d=\"M562.83,-366.5C511.24,-356.38 434.99,-340.26 369.35,-324 365.29,-322.99 361.08,-321.91 356.9,-320.79\"/>\n",
       "<polygon fill=\"red\" stroke=\"red\" points=\"351.67,-324.56 354.27,-314.91 356.2,-315.43 353.6,-325.08 351.67,-324.56\"/>\n",
       "<polyline fill=\"none\" stroke=\"red\" points=\"352,-319.47 356.83,-320.78 \"/>\n",
       "</g>\n",
       "<!-- SIGNOR&#45;PF24&#45;&gt;VIM -->\n",
       "<g id=\"edge24\" class=\"edge\">\n",
       "<title>SIGNOR&#45;PF24&#45;&gt;VIM</title>\n",
       "<path fill=\"none\" stroke=\"green\" d=\"M629.37,-360.05C632.72,-351.97 636.8,-342.12 640.54,-333.11\"/>\n",
       "<polygon fill=\"green\" stroke=\"green\" points=\"643.8,-334.37 644.4,-323.79 637.34,-331.69 643.8,-334.37\"/>\n",
       "</g>\n",
       "<!-- SIGNOR&#45;PF24&#45;&gt;LARP6 -->\n",
       "<g id=\"edge64\" class=\"edge\">\n",
       "<title>SIGNOR&#45;PF24&#45;&gt;LARP6</title>\n",
       "<path fill=\"none\" stroke=\"green\" d=\"M607.88,-360.22C599.27,-349.99 588.32,-336.52 579.35,-324 564.51,-303.27 549.19,-278.67 538.34,-260.6\"/>\n",
       "<polygon fill=\"green\" stroke=\"green\" points=\"541.22,-258.59 533.1,-251.79 535.21,-262.17 541.22,-258.59\"/>\n",
       "</g>\n",
       "<!-- YAP1 -->\n",
       "<g id=\"node25\" class=\"node\">\n",
       "<title>YAP1</title>\n",
       "<ellipse fill=\"lightgray\" stroke=\"black\" cx=\"793.35\" cy=\"-162\" rx=\"35.19\" ry=\"18\"/>\n",
       "<text text-anchor=\"middle\" x=\"793.35\" y=\"-158.3\" font-family=\"Times,serif\" font-size=\"14.00\">YAP1</text>\n",
       "</g>\n",
       "<!-- SIGNOR&#45;PF24&#45;&gt;YAP1 -->\n",
       "<g id=\"edge67\" class=\"edge\">\n",
       "<title>SIGNOR&#45;PF24&#45;&gt;YAP1</title>\n",
       "<path fill=\"none\" stroke=\"red\" d=\"M614.94,-359.87C608.03,-341.12 600.43,-310.72 612.35,-288 643.53,-228.57 717.19,-191.83 760.32,-174.63\"/>\n",
       "<polygon fill=\"red\" stroke=\"red\" points=\"762.41,-168.44 766.06,-177.75 764.2,-178.48 760.55,-169.17 762.41,-168.44\"/>\n",
       "<polyline fill=\"none\" stroke=\"red\" points=\"765.17,-172.73 760.51,-174.56 \"/>\n",
       "</g>\n",
       "<!-- MAP4K4 -->\n",
       "<g id=\"node21\" class=\"node\">\n",
       "<title>MAP4K4</title>\n",
       "<ellipse fill=\"lightyellow\" stroke=\"black\" cx=\"438.35\" cy=\"-378\" rx=\"51.19\" ry=\"18\"/>\n",
       "<text text-anchor=\"middle\" x=\"438.35\" y=\"-374.3\" font-family=\"Times,serif\" font-size=\"14.00\">MAP4K4</text>\n",
       "</g>\n",
       "<!-- MAP3K1 -->\n",
       "<g id=\"node22\" class=\"node\">\n",
       "<title>MAP3K1</title>\n",
       "<ellipse fill=\"lightgray\" stroke=\"black\" cx=\"438.35\" cy=\"-306\" rx=\"51.19\" ry=\"18\"/>\n",
       "<text text-anchor=\"middle\" x=\"438.35\" y=\"-302.3\" font-family=\"Times,serif\" font-size=\"14.00\">MAP3K1</text>\n",
       "</g>\n",
       "<!-- MAP4K4&#45;&gt;MAP3K1 -->\n",
       "<g id=\"edge25\" class=\"edge\">\n",
       "<title>MAP4K4&#45;&gt;MAP3K1</title>\n",
       "<path fill=\"none\" stroke=\"green\" d=\"M438.35,-359.7C438.35,-351.98 438.35,-342.71 438.35,-334.11\"/>\n",
       "<polygon fill=\"green\" stroke=\"green\" points=\"441.85,-334.1 438.35,-324.1 434.85,-334.1 441.85,-334.1\"/>\n",
       "</g>\n",
       "<!-- MAP3K1&#45;&gt;SIGNOR&#45;PF25 -->\n",
       "<g id=\"edge26\" class=\"edge\">\n",
       "<title>MAP3K1&#45;&gt;SIGNOR&#45;PF25</title>\n",
       "<path fill=\"none\" stroke=\"green\" d=\"M418.61,-289.12C407.18,-279.92 392.59,-268.18 379.92,-257.98\"/>\n",
       "<polygon fill=\"green\" stroke=\"green\" points=\"381.91,-255.09 371.93,-251.55 377.52,-260.55 381.91,-255.09\"/>\n",
       "</g>\n",
       "<!-- SIGNOR&#45;PF25&#45;&gt;PPARG -->\n",
       "<g id=\"edge52\" class=\"edge\">\n",
       "<title>SIGNOR&#45;PF25&#45;&gt;PPARG</title>\n",
       "<path fill=\"none\" stroke=\"green\" d=\"M420.07,-242.38C449.21,-249.3 480.5,-262.58 498.35,-288 542.53,-350.89 513.05,-448.42 494.78,-494.79\"/>\n",
       "<polygon fill=\"green\" stroke=\"green\" points=\"491.5,-493.56 490.97,-504.14 497.98,-496.2 491.5,-493.56\"/>\n",
       "</g>\n",
       "<!-- SIGNOR&#45;PF25&#45;&gt;GSK3B -->\n",
       "<g id=\"edge27\" class=\"edge\">\n",
       "<title>SIGNOR&#45;PF25&#45;&gt;GSK3B</title>\n",
       "<path fill=\"none\" stroke=\"green\" d=\"M306.73,-248.87C288.08,-257.11 268.25,-269.63 257.35,-288 188.21,-404.61 253.35,-457.43 253.35,-593 253.35,-667 253.35,-667 253.35,-667 253.35,-760.18 383.83,-792.62 459.57,-803.61\"/>\n",
       "<polygon fill=\"green\" stroke=\"green\" points=\"459.49,-807.13 469.88,-805.02 460.44,-800.19 459.49,-807.13\"/>\n",
       "</g>\n",
       "<!-- LATS1 -->\n",
       "<g id=\"node24\" class=\"node\">\n",
       "<title>LATS1</title>\n",
       "<ellipse fill=\"lightyellow\" stroke=\"black\" cx=\"793.35\" cy=\"-234\" rx=\"40.89\" ry=\"18\"/>\n",
       "<text text-anchor=\"middle\" x=\"793.35\" y=\"-230.3\" font-family=\"Times,serif\" font-size=\"14.00\">LATS1</text>\n",
       "</g>\n",
       "<!-- LATS1&#45;&gt;YAP1 -->\n",
       "<g id=\"edge28\" class=\"edge\">\n",
       "<title>LATS1&#45;&gt;YAP1</title>\n",
       "<path fill=\"none\" stroke=\"red\" d=\"M793.35,-215.7C793.35,-206.46 793.35,-194.98 793.35,-185.11\"/>\n",
       "<polygon fill=\"red\" stroke=\"red\" points=\"788.35,-181.1 798.35,-181.1 798.35,-183.1 788.35,-183.1 788.35,-181.1\"/>\n",
       "<polyline fill=\"none\" stroke=\"red\" points=\"793.35,-180.1 793.35,-185.1 \"/>\n",
       "</g>\n",
       "<!-- SGK1 -->\n",
       "<g id=\"node26\" class=\"node\">\n",
       "<title>SGK1</title>\n",
       "<ellipse fill=\"lightgray\" stroke=\"black\" cx=\"866.35\" cy=\"-90\" rx=\"37.09\" ry=\"18\"/>\n",
       "<text text-anchor=\"middle\" x=\"866.35\" y=\"-86.3\" font-family=\"Times,serif\" font-size=\"14.00\">SGK1</text>\n",
       "</g>\n",
       "<!-- YAP1&#45;&gt;SGK1 -->\n",
       "<g id=\"edge29\" class=\"edge\">\n",
       "<title>YAP1&#45;&gt;SGK1</title>\n",
       "<path fill=\"none\" stroke=\"green\" d=\"M809.19,-145.81C819.07,-136.34 831.97,-123.97 843.01,-113.39\"/>\n",
       "<polygon fill=\"green\" stroke=\"green\" points=\"845.5,-115.85 850.29,-106.4 840.65,-110.8 845.5,-115.85\"/>\n",
       "</g>\n",
       "<!-- SMO -->\n",
       "<g id=\"node27\" class=\"node\">\n",
       "<title>SMO</title>\n",
       "<ellipse fill=\"lightgray\" stroke=\"black\" cx=\"898.35\" cy=\"-18\" rx=\"33.6\" ry=\"18\"/>\n",
       "<text text-anchor=\"middle\" x=\"898.35\" y=\"-14.3\" font-family=\"Times,serif\" font-size=\"14.00\">SMO</text>\n",
       "</g>\n",
       "<!-- SGK1&#45;&gt;SMO -->\n",
       "<g id=\"edge30\" class=\"edge\">\n",
       "<title>SGK1&#45;&gt;SMO</title>\n",
       "<path fill=\"none\" stroke=\"red\" d=\"M874.1,-72.05C878.42,-62.6 883.86,-50.72 888.48,-40.6\"/>\n",
       "<polygon fill=\"red\" stroke=\"red\" points=\"885.72,-34.62 894.81,-38.78 893.98,-40.6 884.88,-36.44 885.72,-34.62\"/>\n",
       "<polyline fill=\"none\" stroke=\"red\" points=\"890.68,-35.79 888.6,-40.34 \"/>\n",
       "</g>\n",
       "<!-- SMO&#45;&gt;SRC -->\n",
       "<g id=\"edge31\" class=\"edge\">\n",
       "<title>SMO&#45;&gt;SRC</title>\n",
       "<path fill=\"none\" stroke=\"green\" d=\"M918.41,-33.04C948.63,-56.02 1002.35,-104.77 1002.35,-161 1002.35,-883 1002.35,-883 1002.35,-883 1002.35,-1001.6 814.08,-1021.67 729.11,-1024.69\"/>\n",
       "<polygon fill=\"green\" stroke=\"green\" points=\"728.93,-1021.19 719.03,-1024.98 729.13,-1028.19 728.93,-1021.19\"/>\n",
       "</g>\n",
       "<!-- SIGNOR&#45;PH18 -->\n",
       "<g id=\"node29\" class=\"node\">\n",
       "<title>SIGNOR&#45;PH18</title>\n",
       "<ellipse fill=\"lightgray\" stroke=\"black\" cx=\"778.35\" cy=\"-306\" rx=\"78.79\" ry=\"18\"/>\n",
       "<text text-anchor=\"middle\" x=\"778.35\" y=\"-302.3\" font-family=\"Times,serif\" font-size=\"14.00\">SIGNOR&#45;PH18</text>\n",
       "</g>\n",
       "<!-- CFL1&#45;&gt;SIGNOR&#45;PH18 -->\n",
       "<g id=\"edge33\" class=\"edge\">\n",
       "<title>CFL1&#45;&gt;SIGNOR&#45;PH18</title>\n",
       "<path fill=\"none\" stroke=\"red\" d=\"M766.99,-360.05C768.96,-350.82 771.44,-339.28 773.57,-329.32\"/>\n",
       "<polygon fill=\"red\" stroke=\"red\" points=\"769.55,-324.21 779.33,-326.3 778.91,-328.26 769.13,-326.16 769.55,-324.21\"/>\n",
       "<polyline fill=\"none\" stroke=\"red\" points=\"774.65,-324.28 773.6,-329.16 \"/>\n",
       "</g>\n",
       "<!-- SIGNOR&#45;PH18&#45;&gt;LATS1 -->\n",
       "<g id=\"edge34\" class=\"edge\">\n",
       "<title>SIGNOR&#45;PH18&#45;&gt;LATS1</title>\n",
       "<path fill=\"none\" stroke=\"red\" d=\"M782.06,-287.7C784.04,-278.46 786.5,-266.98 788.62,-257.11\"/>\n",
       "<polygon fill=\"red\" stroke=\"red\" points=\"784.59,-252.03 794.37,-254.13 793.95,-256.09 784.17,-253.99 784.59,-252.03\"/>\n",
       "<polyline fill=\"none\" stroke=\"red\" points=\"789.69,-252.1 788.64,-256.99 \"/>\n",
       "</g>\n",
       "<!-- LATS2 -->\n",
       "<g id=\"node30\" class=\"node\">\n",
       "<title>LATS2</title>\n",
       "<ellipse fill=\"lightyellow\" stroke=\"black\" cx=\"895.35\" cy=\"-234\" rx=\"40.89\" ry=\"18\"/>\n",
       "<text text-anchor=\"middle\" x=\"895.35\" y=\"-230.3\" font-family=\"Times,serif\" font-size=\"14.00\">LATS2</text>\n",
       "</g>\n",
       "<!-- SIGNOR&#45;PH18&#45;&gt;LATS2 -->\n",
       "<g id=\"edge48\" class=\"edge\">\n",
       "<title>SIGNOR&#45;PH18&#45;&gt;LATS2</title>\n",
       "<path fill=\"none\" stroke=\"red\" d=\"M805.2,-288.94C823.85,-277.78 848.66,-262.94 867.53,-251.65\"/>\n",
       "<polygon fill=\"red\" stroke=\"red\" points=\"868.77,-245.08 873.9,-253.66 872.19,-254.69 867.05,-246.11 868.77,-245.08\"/>\n",
       "<polyline fill=\"none\" stroke=\"red\" points=\"872.19,-248.86 867.9,-251.42 \"/>\n",
       "</g>\n",
       "<!-- LATS2&#45;&gt;YAP1 -->\n",
       "<g id=\"edge47\" class=\"edge\">\n",
       "<title>LATS2&#45;&gt;YAP1</title>\n",
       "<path fill=\"none\" stroke=\"red\" d=\"M874.22,-218.5C857.76,-207.2 834.89,-191.5 817.67,-179.69\"/>\n",
       "<polygon fill=\"red\" stroke=\"red\" points=\"811.42,-181.46 817.07,-173.21 818.72,-174.35 813.06,-182.59 811.42,-181.46\"/>\n",
       "<polyline fill=\"none\" stroke=\"red\" points=\"813.42,-176.77 817.54,-179.6 \"/>\n",
       "</g>\n",
       "<!-- AMOTL2 -->\n",
       "<g id=\"node31\" class=\"node\">\n",
       "<title>AMOTL2</title>\n",
       "<ellipse fill=\"lightgray\" stroke=\"black\" cx=\"897.35\" cy=\"-162\" rx=\"51.19\" ry=\"18\"/>\n",
       "<text text-anchor=\"middle\" x=\"897.35\" y=\"-158.3\" font-family=\"Times,serif\" font-size=\"14.00\">AMOTL2</text>\n",
       "</g>\n",
       "<!-- LATS2&#45;&gt;AMOTL2 -->\n",
       "<g id=\"edge35\" class=\"edge\">\n",
       "<title>LATS2&#45;&gt;AMOTL2</title>\n",
       "<path fill=\"none\" stroke=\"red\" d=\"M889.96,-216.05C889.24,-206.82 889.42,-195.28 890.38,-185.32\"/>\n",
       "<polygon fill=\"red\" stroke=\"red\" points=\"885.87,-180.71 895.8,-181.83 895.58,-183.82 885.64,-182.69 885.87,-180.71\"/>\n",
       "<polyline fill=\"none\" stroke=\"red\" points=\"890.95,-180.28 890.39,-185.24 \"/>\n",
       "</g>\n",
       "<!-- AMOTL2&#45;&gt;SRC -->\n",
       "<g id=\"edge36\" class=\"edge\">\n",
       "<title>AMOTL2&#45;&gt;SRC</title>\n",
       "<path fill=\"none\" stroke=\"green\" d=\"M915.92,-178.89C926.11,-188.61 938.11,-201.86 945.35,-216 963.78,-252 964.35,-264.55 964.35,-305 964.35,-883 964.35,-883 964.35,-883 964.35,-987.6 805.66,-1015.22 728.94,-1022.46\"/>\n",
       "<polygon fill=\"green\" stroke=\"green\" points=\"728.34,-1018.99 718.68,-1023.35 728.95,-1025.97 728.34,-1018.99\"/>\n",
       "</g>\n",
       "<!-- AMOTL2&#45;&gt;LATS2 -->\n",
       "<g id=\"edge49\" class=\"edge\">\n",
       "<title>AMOTL2&#45;&gt;LATS2</title>\n",
       "<path fill=\"none\" stroke=\"green\" d=\"M902.77,-180.28C903.35,-188.03 903.31,-197.36 902.72,-206.01\"/>\n",
       "<polygon fill=\"green\" stroke=\"green\" points=\"899.22,-205.76 901.72,-216.05 906.19,-206.45 899.22,-205.76\"/>\n",
       "</g>\n",
       "<!-- PAK2&#45;&gt;VIM -->\n",
       "<g id=\"edge45\" class=\"edge\">\n",
       "<title>PAK2&#45;&gt;VIM</title>\n",
       "<path fill=\"none\" stroke=\"red\" d=\"M825.01,-366.08C819.52,-363.99 813.77,-361.87 808.35,-360 756.52,-342.11 741.79,-342.99 690.35,-324 686.83,-322.7 683.16,-321.24 679.56,-319.75\"/>\n",
       "<polygon fill=\"red\" stroke=\"red\" points=\"673.66,-322.69 677.55,-313.47 679.4,-314.25 675.5,-323.46 673.66,-322.69\"/>\n",
       "<polyline fill=\"none\" stroke=\"red\" points=\"674.69,-317.69 679.29,-319.64 \"/>\n",
       "</g>\n",
       "<!-- NF2 -->\n",
       "<g id=\"node33\" class=\"node\">\n",
       "<title>NF2</title>\n",
       "<ellipse fill=\"lightgray\" stroke=\"black\" cx=\"905.35\" cy=\"-306\" rx=\"30.59\" ry=\"18\"/>\n",
       "<text text-anchor=\"middle\" x=\"905.35\" y=\"-302.3\" font-family=\"Times,serif\" font-size=\"14.00\">NF2</text>\n",
       "</g>\n",
       "<!-- PAK2&#45;&gt;NF2 -->\n",
       "<g id=\"edge38\" class=\"edge\">\n",
       "<title>PAK2&#45;&gt;NF2</title>\n",
       "<path fill=\"none\" stroke=\"red\" d=\"M864.65,-360.76C872.31,-350.64 882.23,-337.54 890.36,-326.8\"/>\n",
       "<polygon fill=\"red\" stroke=\"red\" points=\"888.9,-320.44 896.88,-326.48 895.67,-328.08 887.7,-322.04 888.9,-320.44\"/>\n",
       "<polyline fill=\"none\" stroke=\"red\" points=\"893.49,-322.67 890.47,-326.65 \"/>\n",
       "</g>\n",
       "<!-- NF2&#45;&gt;LATS1 -->\n",
       "<g id=\"edge46\" class=\"edge\">\n",
       "<title>NF2&#45;&gt;LATS1</title>\n",
       "<path fill=\"none\" stroke=\"green\" d=\"M885.07,-292.32C868.23,-281.8 844,-266.66 824.68,-254.58\"/>\n",
       "<polygon fill=\"green\" stroke=\"green\" points=\"826.52,-251.6 816.19,-249.27 822.81,-257.54 826.52,-251.6\"/>\n",
       "</g>\n",
       "<!-- NF2&#45;&gt;LATS2 -->\n",
       "<g id=\"edge39\" class=\"edge\">\n",
       "<title>NF2&#45;&gt;LATS2</title>\n",
       "<path fill=\"none\" stroke=\"green\" d=\"M902.93,-288.05C901.83,-280.35 900.5,-271.03 899.26,-262.36\"/>\n",
       "<polygon fill=\"green\" stroke=\"green\" points=\"902.7,-261.68 897.82,-252.28 895.77,-262.67 902.7,-261.68\"/>\n",
       "</g>\n",
       "</g>\n",
       "</svg>\n"
      ],
      "text/plain": [
       "<graphviz.graphs.Digraph at 0x7fb468de6320>"
      ]
     },
     "metadata": {},
     "output_type": "display_data"
    }
   ],
   "source": [
    "#Visualize network\n",
    "visualizer1 = NetworkVisualizer(new_net1, color_by='effect', noi=True)\n",
    "visualizer1.render()"
   ]
  },
  {
   "cell_type": "markdown",
   "id": "72fd1618-7eb2-4084-8bc5-af27f55afcef",
   "metadata": {},
   "source": [
    "## 4. Translate IDs "
   ]
  },
  {
   "cell_type": "markdown",
   "id": "7a604021-9539-4dce-beff-8395b3209a7b",
   "metadata": {},
   "source": [
    "NeKo's resource object relies on UniProt IDs. In cases where the user-defined database does not have UniProt IDs, NeKo offers the function to translate between different IDs. The translation module is based on the python package \"Unipressed\" (https://github.com/multimeric/Unipressed).\n",
    "\n",
    "In the example below, we use the HURI database (http://www.interactome-atlas.org/) which provides protein-protein interactions (ppi) with ENSEMBL IDs.\n",
    "\n",
    "To run the following example, please download the database at the following link: http://www.interactome-atlas.org/download. The example uses the `HI-Union` version of the database in `.tsv` format."
   ]
  },
  {
   "cell_type": "code",
   "execution_count": 42,
   "id": "66a43b3a-4fd6-4aa4-924d-d103b6717ab3",
   "metadata": {},
   "outputs": [],
   "source": [
    "#Import the module\n",
    "from neko._inputs.db_translator import IDTranslator"
   ]
  },
  {
   "cell_type": "markdown",
   "id": "34f940f0-552a-4660-a4fb-20f2e3463ca7",
   "metadata": {},
   "source": [
    "The `IDTranslator` function receives as arguments the input and output file names, together with the existing IDs and the target ones (in that case Ensembl to UniProtKB IDs).\n",
    "\n",
    "<div class=\"alert alert-info\">\n",
    "\n",
    "**Note**\n",
    "    \n",
    "NB! The `IDTranslator` can take several minutes the first time you translate a database, depending on the size of the database.\n",
    "</div>  "
   ]
  },
  {
   "cell_type": "code",
   "execution_count": 43,
   "id": "8fcdcd64-429d-40ec-8ec2-8d1d39c8b25f",
   "metadata": {},
   "outputs": [],
   "source": [
    "translator = IDTranslator('HI-union.tsv', 'genes_translated.csv', 'Ensembl', 'UniProtKB-Swiss-Prot', has_header=False, input_columns=['source', 'target'], processes=12)"
   ]
  },
  {
   "cell_type": "code",
   "execution_count": 44,
   "id": "c5c4cb0e-608d-49b5-9819-ed398600f642",
   "metadata": {},
   "outputs": [
    {
     "data": {
      "text/html": [
       "<pre>2024-07-22 12:03:12,217 - IDTranslator_140412855874560 - INFO - Starting ID translation process from Ensembl to UniProtKB-Swiss-Prot</pre>"
      ],
      "text/plain": [
       "<IPython.core.display.HTML object>"
      ]
     },
     "metadata": {},
     "output_type": "display_data"
    },
    {
     "name": "stderr",
     "output_type": "stream",
     "text": [
      "INFO:IDTranslator_140412855874560:Starting ID translation process from Ensembl to UniProtKB-Swiss-Prot\n"
     ]
    },
    {
     "data": {
      "text/html": [
       "<pre>2024-07-22 12:03:12,301 - IDTranslator_140412855874560 - INFO - Loaded 64006 rows with 9094 unique IDs</pre>"
      ],
      "text/plain": [
       "<IPython.core.display.HTML object>"
      ]
     },
     "metadata": {},
     "output_type": "display_data"
    },
    {
     "name": "stderr",
     "output_type": "stream",
     "text": [
      "INFO:IDTranslator_140412855874560:Loaded 64006 rows with 9094 unique IDs\n"
     ]
    },
    {
     "data": {
      "text/html": [
       "<pre>2024-07-22 12:03:12,314 - IDTranslator_140412855874560 - INFO - Loaded progress from checkpoint_batch_91.pkl</pre>"
      ],
      "text/plain": [
       "<IPython.core.display.HTML object>"
      ]
     },
     "metadata": {},
     "output_type": "display_data"
    },
    {
     "name": "stderr",
     "output_type": "stream",
     "text": [
      "INFO:IDTranslator_140412855874560:Loaded progress from checkpoint_batch_91.pkl\n"
     ]
    },
    {
     "data": {
      "application/vnd.jupyter.widget-view+json": {
       "model_id": "ea6e682b70b54a9f85465f17641d929e",
       "version_major": 2,
       "version_minor": 0
      },
      "text/plain": [
       "Processing batches: 0it [00:00, ?it/s]"
      ]
     },
     "metadata": {},
     "output_type": "display_data"
    },
    {
     "data": {
      "text/html": [
       "<pre>2024-07-22 12:03:12,627 - IDTranslator_140412855874560 - INFO - Applying translation to dataframe...</pre>"
      ],
      "text/plain": [
       "<IPython.core.display.HTML object>"
      ]
     },
     "metadata": {},
     "output_type": "display_data"
    },
    {
     "name": "stderr",
     "output_type": "stream",
     "text": [
      "INFO:IDTranslator_140412855874560:Applying translation to dataframe...\n"
     ]
    },
    {
     "data": {
      "text/html": [
       "<pre>2024-07-22 12:05:01,954 - IDTranslator_140412855874560 - INFO - Results saved to genes_translated.csv</pre>"
      ],
      "text/plain": [
       "<IPython.core.display.HTML object>"
      ]
     },
     "metadata": {},
     "output_type": "display_data"
    },
    {
     "name": "stderr",
     "output_type": "stream",
     "text": [
      "INFO:IDTranslator_140412855874560:Results saved to genes_translated.csv\n"
     ]
    },
    {
     "data": {
      "text/html": [
       "<pre>2024-07-22 12:05:02,150 - IDTranslator_140412855874560 - INFO - ID translation process completed in 109.93 seconds</pre>"
      ],
      "text/plain": [
       "<IPython.core.display.HTML object>"
      ]
     },
     "metadata": {},
     "output_type": "display_data"
    },
    {
     "name": "stderr",
     "output_type": "stream",
     "text": [
      "INFO:IDTranslator_140412855874560:ID translation process completed in 109.93 seconds\n"
     ]
    },
    {
     "data": {
      "text/html": [
       "<pre>2024-07-22 12:05:02,170 - IDTranslator_140412855874560 - INFO - Original entry count: 64065</pre>"
      ],
      "text/plain": [
       "<IPython.core.display.HTML object>"
      ]
     },
     "metadata": {},
     "output_type": "display_data"
    },
    {
     "name": "stderr",
     "output_type": "stream",
     "text": [
      "INFO:IDTranslator_140412855874560:Original entry count: 64065\n"
     ]
    },
    {
     "data": {
      "text/html": [
       "<pre>2024-07-22 12:05:02,173 - IDTranslator_140412855874560 - INFO - Translated entry count: 64065</pre>"
      ],
      "text/plain": [
       "<IPython.core.display.HTML object>"
      ]
     },
     "metadata": {},
     "output_type": "display_data"
    },
    {
     "name": "stderr",
     "output_type": "stream",
     "text": [
      "INFO:IDTranslator_140412855874560:Translated entry count: 64065\n"
     ]
    },
    {
     "data": {
      "text/html": [
       "<pre>2024-07-22 12:05:02,178 - IDTranslator_140412855874560 - INFO - Expansion factor: 1.00</pre>"
      ],
      "text/plain": [
       "<IPython.core.display.HTML object>"
      ]
     },
     "metadata": {},
     "output_type": "display_data"
    },
    {
     "name": "stderr",
     "output_type": "stream",
     "text": [
      "INFO:IDTranslator_140412855874560:Expansion factor: 1.00\n"
     ]
    },
    {
     "data": {
      "text/html": [
       "<pre>2024-07-22 12:05:02,182 - IDTranslator_140412855874560 - INFO - Translation success rate: 100.00%</pre>"
      ],
      "text/plain": [
       "<IPython.core.display.HTML object>"
      ]
     },
     "metadata": {},
     "output_type": "display_data"
    },
    {
     "name": "stderr",
     "output_type": "stream",
     "text": [
      "INFO:IDTranslator_140412855874560:Translation success rate: 100.00%\n"
     ]
    },
    {
     "name": "stdout",
     "output_type": "stream",
     "text": [
      "CPU times: user 1min 49s, sys: 727 ms, total: 1min 49s\n",
      "Wall time: 1min 49s\n"
     ]
    }
   ],
   "source": [
    "%%time\n",
    "translator.run()"
   ]
  },
  {
   "cell_type": "code",
   "execution_count": 45,
   "id": "273c86d0-d929-4c2b-8712-f303ffd497ee",
   "metadata": {},
   "outputs": [
    {
     "data": {
      "text/html": [
       "<pre>2024-07-22 12:05:02,439 - IDTranslator_140412855874560 - INFO - Results saved to genes_translated_cleaned.csv</pre>"
      ],
      "text/plain": [
       "<IPython.core.display.HTML object>"
      ]
     },
     "metadata": {},
     "output_type": "display_data"
    },
    {
     "name": "stderr",
     "output_type": "stream",
     "text": [
      "INFO:IDTranslator_140412855874560:Results saved to genes_translated_cleaned.csv\n"
     ]
    },
    {
     "data": {
      "text/html": [
       "<pre>2024-07-22 12:05:02,442 - IDTranslator_140412855874560 - INFO - Removed 0 untranslated entries.</pre>"
      ],
      "text/plain": [
       "<IPython.core.display.HTML object>"
      ]
     },
     "metadata": {},
     "output_type": "display_data"
    },
    {
     "name": "stderr",
     "output_type": "stream",
     "text": [
      "INFO:IDTranslator_140412855874560:Removed 0 untranslated entries.\n"
     ]
    },
    {
     "data": {
      "text/html": [
       "<pre>2024-07-22 12:05:02,446 - IDTranslator_140412855874560 - INFO - Cleaned database saved to genes_translated_cleaned.csv</pre>"
      ],
      "text/plain": [
       "<IPython.core.display.HTML object>"
      ]
     },
     "metadata": {},
     "output_type": "display_data"
    },
    {
     "name": "stderr",
     "output_type": "stream",
     "text": [
      "INFO:IDTranslator_140412855874560:Cleaned database saved to genes_translated_cleaned.csv\n"
     ]
    },
    {
     "data": {
      "text/html": [
       "<pre>2024-07-22 12:05:02,450 - IDTranslator_140412855874560 - INFO - Original entry count: 64065</pre>"
      ],
      "text/plain": [
       "<IPython.core.display.HTML object>"
      ]
     },
     "metadata": {},
     "output_type": "display_data"
    },
    {
     "name": "stderr",
     "output_type": "stream",
     "text": [
      "INFO:IDTranslator_140412855874560:Original entry count: 64065\n"
     ]
    },
    {
     "data": {
      "text/html": [
       "<pre>2024-07-22 12:05:02,453 - IDTranslator_140412855874560 - INFO - Cleaned entry count: 64065</pre>"
      ],
      "text/plain": [
       "<IPython.core.display.HTML object>"
      ]
     },
     "metadata": {},
     "output_type": "display_data"
    },
    {
     "name": "stderr",
     "output_type": "stream",
     "text": [
      "INFO:IDTranslator_140412855874560:Cleaned entry count: 64065\n"
     ]
    },
    {
     "data": {
      "text/html": [
       "<pre>2024-07-22 12:05:02,472 - IDTranslator_140412855874560 - INFO - Original entry count: 64065</pre>"
      ],
      "text/plain": [
       "<IPython.core.display.HTML object>"
      ]
     },
     "metadata": {},
     "output_type": "display_data"
    },
    {
     "name": "stderr",
     "output_type": "stream",
     "text": [
      "INFO:IDTranslator_140412855874560:Original entry count: 64065\n"
     ]
    },
    {
     "data": {
      "text/html": [
       "<pre>2024-07-22 12:05:02,475 - IDTranslator_140412855874560 - INFO - Translated entry count: 64065</pre>"
      ],
      "text/plain": [
       "<IPython.core.display.HTML object>"
      ]
     },
     "metadata": {},
     "output_type": "display_data"
    },
    {
     "name": "stderr",
     "output_type": "stream",
     "text": [
      "INFO:IDTranslator_140412855874560:Translated entry count: 64065\n"
     ]
    },
    {
     "data": {
      "text/html": [
       "<pre>2024-07-22 12:05:02,479 - IDTranslator_140412855874560 - INFO - Expansion factor: 1.00</pre>"
      ],
      "text/plain": [
       "<IPython.core.display.HTML object>"
      ]
     },
     "metadata": {},
     "output_type": "display_data"
    },
    {
     "name": "stderr",
     "output_type": "stream",
     "text": [
      "INFO:IDTranslator_140412855874560:Expansion factor: 1.00\n"
     ]
    },
    {
     "data": {
      "text/html": [
       "<pre>2024-07-22 12:05:02,483 - IDTranslator_140412855874560 - INFO - Translation success rate: 100.00%</pre>"
      ],
      "text/plain": [
       "<IPython.core.display.HTML object>"
      ]
     },
     "metadata": {},
     "output_type": "display_data"
    },
    {
     "name": "stderr",
     "output_type": "stream",
     "text": [
      "INFO:IDTranslator_140412855874560:Translation success rate: 100.00%\n"
     ]
    }
   ],
   "source": [
    "translator.remove_untranslated_entries()"
   ]
  },
  {
   "cell_type": "code",
   "execution_count": 46,
   "id": "03c31d3f-da2a-4e37-8430-09f659c6325e",
   "metadata": {},
   "outputs": [],
   "source": [
    "resources = Resources()"
   ]
  },
  {
   "cell_type": "code",
   "execution_count": 47,
   "id": "1865e7f6-251f-43eb-9c5d-1be75c07f9c1",
   "metadata": {},
   "outputs": [],
   "source": [
    "huri = pd.read_csv(\"genes_translated_cleaned.csv\", usecols=[\"source_UniProtKB-Swiss-Prot\", \"target_UniProtKB-Swiss-Prot\"])"
   ]
  },
  {
   "cell_type": "code",
   "execution_count": 48,
   "id": "a791bd79-37ac-451d-a683-b4446fc501b7",
   "metadata": {},
   "outputs": [
    {
     "data": {
      "text/html": [
       "<div>\n",
       "<style scoped>\n",
       "    .dataframe tbody tr th:only-of-type {\n",
       "        vertical-align: middle;\n",
       "    }\n",
       "\n",
       "    .dataframe tbody tr th {\n",
       "        vertical-align: top;\n",
       "    }\n",
       "\n",
       "    .dataframe thead th {\n",
       "        text-align: right;\n",
       "    }\n",
       "</style>\n",
       "<table border=\"1\" class=\"dataframe\">\n",
       "  <thead>\n",
       "    <tr style=\"text-align: right;\">\n",
       "      <th></th>\n",
       "      <th>source_UniProtKB-Swiss-Prot</th>\n",
       "      <th>target_UniProtKB-Swiss-Prot</th>\n",
       "    </tr>\n",
       "  </thead>\n",
       "  <tbody>\n",
       "    <tr>\n",
       "      <th>0</th>\n",
       "      <td>Q9H2S6</td>\n",
       "      <td>Q9NPE6</td>\n",
       "    </tr>\n",
       "    <tr>\n",
       "      <th>1</th>\n",
       "      <td>Q9H2S6</td>\n",
       "      <td>Q9BXK5</td>\n",
       "    </tr>\n",
       "    <tr>\n",
       "      <th>2</th>\n",
       "      <td>Q9H2S6</td>\n",
       "      <td>O60238</td>\n",
       "    </tr>\n",
       "    <tr>\n",
       "      <th>3</th>\n",
       "      <td>Q9H2S6</td>\n",
       "      <td>P20138</td>\n",
       "    </tr>\n",
       "    <tr>\n",
       "      <th>4</th>\n",
       "      <td>Q9H2S6</td>\n",
       "      <td>Q9UM44</td>\n",
       "    </tr>\n",
       "  </tbody>\n",
       "</table>\n",
       "</div>"
      ],
      "text/plain": [
       "  source_UniProtKB-Swiss-Prot target_UniProtKB-Swiss-Prot\n",
       "0                      Q9H2S6                      Q9NPE6\n",
       "1                      Q9H2S6                      Q9BXK5\n",
       "2                      Q9H2S6                      O60238\n",
       "3                      Q9H2S6                      P20138\n",
       "4                      Q9H2S6                      Q9UM44"
      ]
     },
     "execution_count": 48,
     "metadata": {},
     "output_type": "execute_result"
    }
   ],
   "source": [
    "huri.head()"
   ]
  },
  {
   "cell_type": "code",
   "execution_count": 49,
   "id": "3ff873f3-e984-4cd2-98e5-702190ffd49f",
   "metadata": {},
   "outputs": [],
   "source": [
    "mapping = {\"source_UniProtKB-Swiss-Prot\": \"source\", \"target_UniProtKB-Swiss-Prot\": \"target\"}\n",
    "resources.add_database(huri, column_mapping=mapping,  reset_index=True)"
   ]
  },
  {
   "cell_type": "code",
   "execution_count": 50,
   "id": "248682b9-1652-4c97-ab20-2247e0ff8f65",
   "metadata": {},
   "outputs": [],
   "source": [
    "genes = [\"CD33\", \"TNMD\", \"AMIGO1\"]"
   ]
  },
  {
   "cell_type": "code",
   "execution_count": 51,
   "id": "1412d526-549b-4bf5-aede-02b6d61475ba",
   "metadata": {},
   "outputs": [],
   "source": [
    "new_net1 = Network(genes, resources=resources.interactions)"
   ]
  },
  {
   "cell_type": "code",
   "execution_count": 52,
   "id": "9941ca2a-e7a3-4dfd-9307-1491c987fe31",
   "metadata": {},
   "outputs": [],
   "source": [
    "new_net1.connect_network_radially(max_len=1, only_signed=False, consensus=False)"
   ]
  },
  {
   "cell_type": "code",
   "execution_count": 53,
   "id": "2681f07d-d73d-46da-9f69-bb0db96be6c6",
   "metadata": {},
   "outputs": [
    {
     "data": {
      "image/svg+xml": [
       "<?xml version=\"1.0\" encoding=\"UTF-8\" standalone=\"no\"?>\n",
       "<!DOCTYPE svg PUBLIC \"-//W3C//DTD SVG 1.1//EN\"\n",
       " \"http://www.w3.org/Graphics/SVG/1.1/DTD/svg11.dtd\">\n",
       "<!-- Generated by graphviz version 2.43.0 (0)\n",
       " -->\n",
       "<!-- Title: %3 Pages: 1 -->\n",
       "<svg width=\"463pt\" height=\"260pt\"\n",
       " viewBox=\"0.00 0.00 463.19 260.00\" xmlns=\"http://www.w3.org/2000/svg\" xmlns:xlink=\"http://www.w3.org/1999/xlink\">\n",
       "<g id=\"graph0\" class=\"graph\" transform=\"scale(1 1) rotate(0) translate(4 256)\">\n",
       "<title>%3</title>\n",
       "<polygon fill=\"white\" stroke=\"transparent\" points=\"-4,4 -4,-256 459.19,-256 459.19,4 -4,4\"/>\n",
       "<!-- CD33 -->\n",
       "<g id=\"node1\" class=\"node\">\n",
       "<title>CD33</title>\n",
       "<ellipse fill=\"lightgray\" stroke=\"black\" cx=\"149.25\" cy=\"-162\" rx=\"36.29\" ry=\"18\"/>\n",
       "<text text-anchor=\"middle\" x=\"149.25\" y=\"-158.3\" font-family=\"Times,serif\" font-size=\"14.00\">CD33</text>\n",
       "</g>\n",
       "<!-- CXCL9 -->\n",
       "<g id=\"node2\" class=\"node\">\n",
       "<title>CXCL9</title>\n",
       "<ellipse fill=\"lightgray\" stroke=\"black\" cx=\"42.25\" cy=\"-90\" rx=\"42.49\" ry=\"18\"/>\n",
       "<text text-anchor=\"middle\" x=\"42.25\" y=\"-86.3\" font-family=\"Times,serif\" font-size=\"14.00\">CXCL9</text>\n",
       "</g>\n",
       "<!-- CD33&#45;&gt;CXCL9 -->\n",
       "<g id=\"edge1\" class=\"edge\">\n",
       "<title>CD33&#45;&gt;CXCL9</title>\n",
       "<path fill=\"none\" stroke=\"black\" d=\"M128.11,-147.17C109.71,-135.14 83.15,-117.76 64.45,-105.52\"/>\n",
       "</g>\n",
       "<!-- RPRM -->\n",
       "<g id=\"node3\" class=\"node\">\n",
       "<title>RPRM</title>\n",
       "<ellipse fill=\"lightgray\" stroke=\"black\" cx=\"143.25\" cy=\"-90\" rx=\"40.09\" ry=\"18\"/>\n",
       "<text text-anchor=\"middle\" x=\"143.25\" y=\"-86.3\" font-family=\"Times,serif\" font-size=\"14.00\">RPRM</text>\n",
       "</g>\n",
       "<!-- CD33&#45;&gt;RPRM -->\n",
       "<g id=\"edge2\" class=\"edge\">\n",
       "<title>CD33&#45;&gt;RPRM</title>\n",
       "<path fill=\"none\" stroke=\"black\" d=\"M147.76,-143.7C146.83,-132.85 145.64,-118.92 144.71,-108.1\"/>\n",
       "</g>\n",
       "<!-- TTMP -->\n",
       "<g id=\"node4\" class=\"node\">\n",
       "<title>TTMP</title>\n",
       "<ellipse fill=\"lightgray\" stroke=\"black\" cx=\"240.25\" cy=\"-90\" rx=\"38.99\" ry=\"18\"/>\n",
       "<text text-anchor=\"middle\" x=\"240.25\" y=\"-86.3\" font-family=\"Times,serif\" font-size=\"14.00\">TTMP</text>\n",
       "</g>\n",
       "<!-- CD33&#45;&gt;TTMP -->\n",
       "<g id=\"edge3\" class=\"edge\">\n",
       "<title>CD33&#45;&gt;TTMP</title>\n",
       "<path fill=\"none\" stroke=\"black\" d=\"M168.1,-146.5C183.62,-134.56 205.51,-117.72 221.1,-105.73\"/>\n",
       "</g>\n",
       "<!-- AMIGO1 -->\n",
       "<g id=\"node7\" class=\"node\">\n",
       "<title>AMIGO1</title>\n",
       "<ellipse fill=\"lightgray\" stroke=\"black\" cx=\"273.25\" cy=\"-18\" rx=\"50.09\" ry=\"18\"/>\n",
       "<text text-anchor=\"middle\" x=\"273.25\" y=\"-14.3\" font-family=\"Times,serif\" font-size=\"14.00\">AMIGO1</text>\n",
       "</g>\n",
       "<!-- CXCL9&#45;&gt;AMIGO1 -->\n",
       "<g id=\"edge8\" class=\"edge\">\n",
       "<title>CXCL9&#45;&gt;AMIGO1</title>\n",
       "<path fill=\"none\" stroke=\"black\" d=\"M74.66,-78.25C81.13,-76.14 87.9,-73.98 94.25,-72 142.83,-56.87 199.15,-40.36 235.44,-29.86\"/>\n",
       "</g>\n",
       "<!-- RPRM&#45;&gt;AMIGO1 -->\n",
       "<g id=\"edge9\" class=\"edge\">\n",
       "<title>RPRM&#45;&gt;AMIGO1</title>\n",
       "<path fill=\"none\" stroke=\"black\" d=\"M168,-75.67C190.4,-63.61 223.3,-45.89 246.34,-33.49\"/>\n",
       "</g>\n",
       "<!-- TTMP&#45;&gt;AMIGO1 -->\n",
       "<g id=\"edge10\" class=\"edge\">\n",
       "<title>TTMP&#45;&gt;AMIGO1</title>\n",
       "<path fill=\"none\" stroke=\"black\" d=\"M248.23,-72.05C253.42,-61.05 260.16,-46.76 265.33,-35.79\"/>\n",
       "</g>\n",
       "<!-- TNMD -->\n",
       "<g id=\"node5\" class=\"node\">\n",
       "<title>TNMD</title>\n",
       "<ellipse fill=\"lightgray\" stroke=\"black\" cx=\"304.25\" cy=\"-234\" rx=\"40.89\" ry=\"18\"/>\n",
       "<text text-anchor=\"middle\" x=\"304.25\" y=\"-230.3\" font-family=\"Times,serif\" font-size=\"14.00\">TNMD</text>\n",
       "</g>\n",
       "<!-- TNMD&#45;&gt;CD33 -->\n",
       "<g id=\"edge4\" class=\"edge\">\n",
       "<title>TNMD&#45;&gt;CD33</title>\n",
       "<path fill=\"none\" stroke=\"black\" d=\"M276.54,-220.49C247.8,-207.51 203.23,-187.38 175.17,-174.71\"/>\n",
       "</g>\n",
       "<!-- TMEM79 -->\n",
       "<g id=\"node6\" class=\"node\">\n",
       "<title>TMEM79</title>\n",
       "<ellipse fill=\"lightgray\" stroke=\"black\" cx=\"263.25\" cy=\"-162\" rx=\"53.89\" ry=\"18\"/>\n",
       "<text text-anchor=\"middle\" x=\"263.25\" y=\"-158.3\" font-family=\"Times,serif\" font-size=\"14.00\">TMEM79</text>\n",
       "</g>\n",
       "<!-- TNMD&#45;&gt;TMEM79 -->\n",
       "<g id=\"edge5\" class=\"edge\">\n",
       "<title>TNMD&#45;&gt;TMEM79</title>\n",
       "<path fill=\"none\" stroke=\"black\" d=\"M294.53,-216.41C288.09,-205.41 279.66,-191.03 273.18,-179.96\"/>\n",
       "</g>\n",
       "<!-- TNMD&#45;&gt;AMIGO1 -->\n",
       "<g id=\"edge6\" class=\"edge\">\n",
       "<title>TNMD&#45;&gt;AMIGO1</title>\n",
       "<path fill=\"none\" stroke=\"black\" d=\"M313.15,-216.35C318.08,-206.17 323.71,-192.7 326.25,-180 329.37,-164.31 328.71,-159.81 326.25,-144 321.07,-110.81 316.7,-102.78 303.25,-72 297.74,-59.41 290.09,-45.94 283.89,-35.73\"/>\n",
       "</g>\n",
       "<!-- BNIP3 -->\n",
       "<g id=\"node8\" class=\"node\">\n",
       "<title>BNIP3</title>\n",
       "<ellipse fill=\"lightgray\" stroke=\"black\" cx=\"414.25\" cy=\"-162\" rx=\"40.89\" ry=\"18\"/>\n",
       "<text text-anchor=\"middle\" x=\"414.25\" y=\"-158.3\" font-family=\"Times,serif\" font-size=\"14.00\">BNIP3</text>\n",
       "</g>\n",
       "<!-- TNMD&#45;&gt;BNIP3 -->\n",
       "<g id=\"edge7\" class=\"edge\">\n",
       "<title>TNMD&#45;&gt;BNIP3</title>\n",
       "<path fill=\"none\" stroke=\"black\" d=\"M326.51,-218.83C345.59,-206.69 372.94,-189.28 392.02,-177.14\"/>\n",
       "</g>\n",
       "<!-- TMEM79&#45;&gt;AMIGO1 -->\n",
       "<g id=\"edge12\" class=\"edge\">\n",
       "<title>TMEM79&#45;&gt;AMIGO1</title>\n",
       "<path fill=\"none\" stroke=\"black\" d=\"M273.61,-144.03C279.15,-133.96 285.4,-120.71 288.25,-108 293.8,-83.23 286.31,-54.17 280.07,-36.17\"/>\n",
       "</g>\n",
       "<!-- BNIP3&#45;&gt;AMIGO1 -->\n",
       "<g id=\"edge11\" class=\"edge\">\n",
       "<title>BNIP3&#45;&gt;AMIGO1</title>\n",
       "<path fill=\"none\" stroke=\"black\" d=\"M406.71,-143.98C397.57,-124.78 380.71,-93.44 359.25,-72 342.87,-55.64 320.51,-42.06 302.7,-32.74\"/>\n",
       "</g>\n",
       "</g>\n",
       "</svg>\n"
      ],
      "text/plain": [
       "<graphviz.graphs.Digraph at 0x7fb4b82dda50>"
      ]
     },
     "metadata": {},
     "output_type": "display_data"
    }
   ],
   "source": [
    "visualizer = NetworkVisualizer(new_net1, color_by='effect')\n",
    "visualizer.render()"
   ]
  }
 ],
 "metadata": {
  "kernelspec": {
   "display_name": "Python 3 (ipykernel)",
   "language": "python",
   "name": "python3"
  },
  "language_info": {
   "codemirror_mode": {
    "name": "ipython",
    "version": 3
   },
   "file_extension": ".py",
   "mimetype": "text/x-python",
   "name": "python",
   "nbconvert_exporter": "python",
   "pygments_lexer": "ipython3",
   "version": "3.10.13"
  }
 },
 "nbformat": 4,
 "nbformat_minor": 5
}
